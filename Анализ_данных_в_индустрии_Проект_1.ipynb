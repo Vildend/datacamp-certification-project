{
  "cells": [
    {
      "cell_type": "markdown",
      "metadata": {
        "id": "view-in-github",
        "colab_type": "text"
      },
      "source": [
        "<a href=\"https://colab.research.google.com/github/Vildend/datacamp-certification-project/blob/main/%D0%90%D0%BD%D0%B0%D0%BB%D0%B8%D0%B7_%D0%B4%D0%B0%D0%BD%D0%BD%D1%8B%D1%85_%D0%B2_%D0%B8%D0%BD%D0%B4%D1%83%D1%81%D1%82%D1%80%D0%B8%D0%B8_%D0%9F%D1%80%D0%BE%D0%B5%D0%BA%D1%82_1.ipynb\" target=\"_parent\"><img src=\"https://colab.research.google.com/assets/colab-badge.svg\" alt=\"Open In Colab\"/></a>"
      ]
    },
    {
      "cell_type": "markdown",
      "id": "a2143e79",
      "metadata": {
        "id": "a2143e79"
      },
      "source": [
        "Установим и подключим необходимые библиотеки."
      ]
    },
    {
      "cell_type": "code",
      "execution_count": null,
      "id": "e66a00e2",
      "metadata": {
        "id": "e66a00e2"
      },
      "outputs": [],
      "source": [
        "# !pip3 install psycopg2-binary\n",
        "# https://www.psycopg.org/docs/install.html#quick-install"
      ]
    },
    {
      "cell_type": "code",
      "execution_count": null,
      "id": "c4d1ebda",
      "metadata": {
        "id": "c4d1ebda"
      },
      "outputs": [],
      "source": [
        "import psycopg2\n",
        "from IPython.display import display, HTML\n",
        "import warnings\n",
        "\n",
        "import json\n",
        "import pandas as pd\n",
        "import plotly.express as px\n",
        "from plotly import graph_objects as go\n",
        "from plotly.subplots import make_subplots\n",
        "\n",
        "# display(HTML(\"<style>.container { width:100% !important; }</style>\"))\n",
        "warnings.filterwarnings('ignore')\n",
        "%matplotlib inline"
      ]
    },
    {
      "cell_type": "markdown",
      "id": "0c21216e",
      "metadata": {
        "id": "0c21216e"
      },
      "source": [
        "Для того чтобы отслеживать, как выглядит путь клиента от знакомства с продуктом до его получения, и какие в нем есть проблемные места, аналитики часто строят воронки. Этот инструмент позволяет понять, сколько клиентов \"теряется\" на каждом из этапов процесса и сколько в итоге совершает целевое действие."
      ]
    },
    {
      "cell_type": "markdown",
      "id": "380c3c3e",
      "metadata": {
        "id": "380c3c3e"
      },
      "source": [
        "![TinkoffQuestModel.jpg](attachment:TinkoffQuestModel.jpg)"
      ]
    },
    {
      "cell_type": "markdown",
      "id": "b4959963",
      "metadata": {
        "id": "b4959963"
      },
      "source": [
        "Перед вами схема данных проекта Тинькофф квест. Постройте воронку, которая показывала бы в динамике по неделям и месяцам, сколько клиентов посещает наш сайт, и какая доля из них регистрируется на нем \\ подает заявку на игру \\ по факту приходит на нее. Количество клиентов и конверсии необходимо изобразить на одном графике."
      ]
    },
    {
      "cell_type": "markdown",
      "id": "5ade2ccf",
      "metadata": {
        "id": "5ade2ccf"
      },
      "source": [
        "Для начала подключимся к базе данных."
      ]
    },
    {
      "cell_type": "code",
      "execution_count": null,
      "id": "b9c1065f",
      "metadata": {
        "id": "b9c1065f"
      },
      "outputs": [],
      "source": [
        "f = open('database_connect.json')\n",
        "database_connect = json.load(f)\n",
        "f.close()\n",
        "\n",
        "conn = psycopg2.connect(\n",
        "    host     = database_connect[\"host\"],\n",
        "    port     = database_connect[\"port\"],\n",
        "    database = database_connect[\"database\"],\n",
        "    user     = database_connect[\"user\"],\n",
        "    password = database_connect[\"password\"],\n",
        ")"
      ]
    },
    {
      "cell_type": "markdown",
      "id": "f5254330",
      "metadata": {
        "id": "f5254330"
      },
      "source": [
        "Проверим успешное подключение к БД."
      ]
    },
    {
      "cell_type": "code",
      "execution_count": null,
      "id": "4186df35",
      "metadata": {
        "id": "4186df35",
        "outputId": "51077a14-c080-4a0e-fe51-48317d5def6c"
      },
      "outputs": [
        {
          "data": {
            "text/html": [
              "<div>\n",
              "<style scoped>\n",
              "    .dataframe tbody tr th:only-of-type {\n",
              "        vertical-align: middle;\n",
              "    }\n",
              "\n",
              "    .dataframe tbody tr th {\n",
              "        vertical-align: top;\n",
              "    }\n",
              "\n",
              "    .dataframe thead th {\n",
              "        text-align: right;\n",
              "    }\n",
              "</style>\n",
              "<table border=\"1\" class=\"dataframe\">\n",
              "  <thead>\n",
              "    <tr style=\"text-align: right;\">\n",
              "      <th></th>\n",
              "      <th>game_rk</th>\n",
              "      <th>quest_rk</th>\n",
              "      <th>employee_rk</th>\n",
              "      <th>game_dttm</th>\n",
              "      <th>price</th>\n",
              "      <th>game_flg</th>\n",
              "      <th>finish_flg</th>\n",
              "      <th>time</th>\n",
              "    </tr>\n",
              "  </thead>\n",
              "  <tbody>\n",
              "    <tr>\n",
              "      <th>0</th>\n",
              "      <td>15</td>\n",
              "      <td>13</td>\n",
              "      <td>11</td>\n",
              "      <td>2022-11-17 02:13:10.970497</td>\n",
              "      <td>2701.92</td>\n",
              "      <td>0</td>\n",
              "      <td>0</td>\n",
              "      <td>00:00:00</td>\n",
              "    </tr>\n",
              "    <tr>\n",
              "      <th>1</th>\n",
              "      <td>79</td>\n",
              "      <td>31</td>\n",
              "      <td>3</td>\n",
              "      <td>2022-12-02 19:53:58.107147</td>\n",
              "      <td>1399.31</td>\n",
              "      <td>0</td>\n",
              "      <td>0</td>\n",
              "      <td>00:00:00</td>\n",
              "    </tr>\n",
              "    <tr>\n",
              "      <th>2</th>\n",
              "      <td>111</td>\n",
              "      <td>21</td>\n",
              "      <td>14</td>\n",
              "      <td>2022-11-22 09:31:30.506502</td>\n",
              "      <td>1349.32</td>\n",
              "      <td>0</td>\n",
              "      <td>0</td>\n",
              "      <td>00:00:00</td>\n",
              "    </tr>\n",
              "    <tr>\n",
              "      <th>3</th>\n",
              "      <td>127</td>\n",
              "      <td>15</td>\n",
              "      <td>7</td>\n",
              "      <td>2022-12-27 01:59:28.540922</td>\n",
              "      <td>1557.79</td>\n",
              "      <td>0</td>\n",
              "      <td>0</td>\n",
              "      <td>00:00:00</td>\n",
              "    </tr>\n",
              "    <tr>\n",
              "      <th>4</th>\n",
              "      <td>143</td>\n",
              "      <td>22</td>\n",
              "      <td>8</td>\n",
              "      <td>2022-12-30 10:39:51.834731</td>\n",
              "      <td>1880.07</td>\n",
              "      <td>0</td>\n",
              "      <td>0</td>\n",
              "      <td>00:00:00</td>\n",
              "    </tr>\n",
              "  </tbody>\n",
              "</table>\n",
              "</div>"
            ],
            "text/plain": [
              "   game_rk  quest_rk  employee_rk                  game_dttm    price  \\\n",
              "0       15        13           11 2022-11-17 02:13:10.970497  2701.92   \n",
              "1       79        31            3 2022-12-02 19:53:58.107147  1399.31   \n",
              "2      111        21           14 2022-11-22 09:31:30.506502  1349.32   \n",
              "3      127        15            7 2022-12-27 01:59:28.540922  1557.79   \n",
              "4      143        22            8 2022-12-30 10:39:51.834731  1880.07   \n",
              "\n",
              "   game_flg  finish_flg      time  \n",
              "0         0           0  00:00:00  \n",
              "1         0           0  00:00:00  \n",
              "2         0           0  00:00:00  \n",
              "3         0           0  00:00:00  \n",
              "4         0           0  00:00:00  "
            ]
          },
          "execution_count": 13,
          "metadata": {},
          "output_type": "execute_result"
        }
      ],
      "source": [
        "ma_game = pd.read_sql(\"SELECT * FROM msu_analytics.game\", conn)\n",
        "ma_game.head()"
      ]
    },
    {
      "cell_type": "markdown",
      "id": "feac9526",
      "metadata": {
        "id": "feac9526"
      },
      "source": [
        "Присвоим переменной <strong>df_month</strong> SQL запрос, в котором мы получаем необходимые для анализа суммы и конверсии по месяцам."
      ]
    },
    {
      "cell_type": "code",
      "execution_count": null,
      "id": "5e1acea5",
      "metadata": {
        "id": "5e1acea5",
        "outputId": "931141c8-ad3f-4277-89b3-83d80627a887"
      },
      "outputs": [
        {
          "data": {
            "text/html": [
              "<div>\n",
              "<style scoped>\n",
              "    .dataframe tbody tr th:only-of-type {\n",
              "        vertical-align: middle;\n",
              "    }\n",
              "\n",
              "    .dataframe tbody tr th {\n",
              "        vertical-align: top;\n",
              "    }\n",
              "\n",
              "    .dataframe thead th {\n",
              "        text-align: right;\n",
              "    }\n",
              "</style>\n",
              "<table border=\"1\" class=\"dataframe\">\n",
              "  <thead>\n",
              "    <tr style=\"text-align: right;\">\n",
              "      <th></th>\n",
              "      <th>month</th>\n",
              "      <th>visits_count</th>\n",
              "      <th>visits_rate</th>\n",
              "      <th>registrations_count</th>\n",
              "      <th>registrations_rate</th>\n",
              "      <th>applications_count</th>\n",
              "      <th>applications_rate</th>\n",
              "      <th>participants_count</th>\n",
              "      <th>participants_rate</th>\n",
              "    </tr>\n",
              "  </thead>\n",
              "  <tbody>\n",
              "    <tr>\n",
              "      <th>0</th>\n",
              "      <td>2022-09-01</td>\n",
              "      <td>778</td>\n",
              "      <td>100.0</td>\n",
              "      <td>190</td>\n",
              "      <td>24.42</td>\n",
              "      <td>51</td>\n",
              "      <td>6.56</td>\n",
              "      <td>39</td>\n",
              "      <td>5.01</td>\n",
              "    </tr>\n",
              "    <tr>\n",
              "      <th>1</th>\n",
              "      <td>2022-10-01</td>\n",
              "      <td>843</td>\n",
              "      <td>100.0</td>\n",
              "      <td>217</td>\n",
              "      <td>25.74</td>\n",
              "      <td>65</td>\n",
              "      <td>7.71</td>\n",
              "      <td>56</td>\n",
              "      <td>6.64</td>\n",
              "    </tr>\n",
              "    <tr>\n",
              "      <th>2</th>\n",
              "      <td>2022-11-01</td>\n",
              "      <td>786</td>\n",
              "      <td>100.0</td>\n",
              "      <td>200</td>\n",
              "      <td>25.45</td>\n",
              "      <td>56</td>\n",
              "      <td>7.12</td>\n",
              "      <td>50</td>\n",
              "      <td>6.36</td>\n",
              "    </tr>\n",
              "    <tr>\n",
              "      <th>3</th>\n",
              "      <td>2022-12-01</td>\n",
              "      <td>805</td>\n",
              "      <td>100.0</td>\n",
              "      <td>196</td>\n",
              "      <td>24.35</td>\n",
              "      <td>57</td>\n",
              "      <td>7.08</td>\n",
              "      <td>33</td>\n",
              "      <td>4.10</td>\n",
              "    </tr>\n",
              "    <tr>\n",
              "      <th>4</th>\n",
              "      <td>2023-01-01</td>\n",
              "      <td>852</td>\n",
              "      <td>100.0</td>\n",
              "      <td>213</td>\n",
              "      <td>25.00</td>\n",
              "      <td>64</td>\n",
              "      <td>7.51</td>\n",
              "      <td>20</td>\n",
              "      <td>2.35</td>\n",
              "    </tr>\n",
              "    <tr>\n",
              "      <th>5</th>\n",
              "      <td>2023-02-01</td>\n",
              "      <td>32</td>\n",
              "      <td>100.0</td>\n",
              "      <td>8</td>\n",
              "      <td>25.00</td>\n",
              "      <td>0</td>\n",
              "      <td>0.00</td>\n",
              "      <td>0</td>\n",
              "      <td>0.00</td>\n",
              "    </tr>\n",
              "  </tbody>\n",
              "</table>\n",
              "</div>"
            ],
            "text/plain": [
              "        month  visits_count  visits_rate  registrations_count  \\\n",
              "0  2022-09-01           778        100.0                  190   \n",
              "1  2022-10-01           843        100.0                  217   \n",
              "2  2022-11-01           786        100.0                  200   \n",
              "3  2022-12-01           805        100.0                  196   \n",
              "4  2023-01-01           852        100.0                  213   \n",
              "5  2023-02-01            32        100.0                    8   \n",
              "\n",
              "   registrations_rate  applications_count  applications_rate  \\\n",
              "0               24.42                  51               6.56   \n",
              "1               25.74                  65               7.71   \n",
              "2               25.45                  56               7.12   \n",
              "3               24.35                  57               7.08   \n",
              "4               25.00                  64               7.51   \n",
              "5               25.00                   0               0.00   \n",
              "\n",
              "   participants_count  participants_rate  \n",
              "0                  39               5.01  \n",
              "1                  56               6.64  \n",
              "2                  50               6.36  \n",
              "3                  33               4.10  \n",
              "4                  20               2.35  \n",
              "5                   0               0.00  "
            ]
          },
          "execution_count": 14,
          "metadata": {},
          "output_type": "execute_result"
        }
      ],
      "source": [
        "df_month = pd.read_sql(\"\"\"\n",
        "    WITH counts_by_month AS (\n",
        "        SELECT\n",
        "            DATE_TRUNC('month', visit_dttm)::date AS month,\n",
        "            COUNT(DISTINCT ma_client.client_rk) AS visits_count,\n",
        "            COUNT(DISTINCT ma_account.account_rk) AS registrations_count,\n",
        "            COUNT(DISTINCT ma_application.account_rk) AS applications_count,\n",
        "            COUNT(DISTINCT ma_client.client_rk) FILTER(WHERE game_flg = 1) AS participants_count\n",
        "        FROM msu_analytics.client AS ma_client\n",
        "        LEFT JOIN msu_analytics.account AS ma_account USING(client_rk)\n",
        "        LEFT JOIN msu_analytics.application AS ma_application USING(account_rk)\n",
        "        LEFT JOIN msu_analytics.game AS ma_game USING(game_rk)\n",
        "        GROUP BY month)\n",
        "\n",
        "    SELECT\n",
        "        month,\n",
        "        visits_count,\n",
        "        ROUND(visits_count / visits_count::decimal * 100, 2) AS visits_rate,\n",
        "        registrations_count,\n",
        "        ROUND(registrations_count / visits_count::decimal * 100, 2) AS registrations_rate,\n",
        "        applications_count,\n",
        "        ROUND(applications_count / visits_count::decimal * 100, 2) AS applications_rate,\n",
        "        participants_count,\n",
        "        ROUND(participants_count / visits_count::decimal * 100, 2) AS participants_rate\n",
        "    FROM counts_by_month\n",
        "    ORDER BY month\n",
        "\"\"\", conn)\n",
        "df_month"
      ]
    },
    {
      "cell_type": "markdown",
      "id": "5c405112",
      "metadata": {
        "id": "5c405112"
      },
      "source": [
        "Также переменной <strong>df_week</strong> присвоим тот же SQL запрос, но уже с группировкой по неделям."
      ]
    },
    {
      "cell_type": "code",
      "execution_count": null,
      "id": "85514f20",
      "metadata": {
        "scrolled": true,
        "id": "85514f20",
        "outputId": "aaa44fa6-2adc-4941-c308-4da9085ea7eb"
      },
      "outputs": [
        {
          "data": {
            "text/html": [
              "<div>\n",
              "<style scoped>\n",
              "    .dataframe tbody tr th:only-of-type {\n",
              "        vertical-align: middle;\n",
              "    }\n",
              "\n",
              "    .dataframe tbody tr th {\n",
              "        vertical-align: top;\n",
              "    }\n",
              "\n",
              "    .dataframe thead th {\n",
              "        text-align: right;\n",
              "    }\n",
              "</style>\n",
              "<table border=\"1\" class=\"dataframe\">\n",
              "  <thead>\n",
              "    <tr style=\"text-align: right;\">\n",
              "      <th></th>\n",
              "      <th>week</th>\n",
              "      <th>visits_count</th>\n",
              "      <th>visits_rate</th>\n",
              "      <th>registrations_count</th>\n",
              "      <th>registrations_rate</th>\n",
              "      <th>applications_count</th>\n",
              "      <th>applications_rate</th>\n",
              "      <th>participants_count</th>\n",
              "      <th>participants_rate</th>\n",
              "    </tr>\n",
              "  </thead>\n",
              "  <tbody>\n",
              "    <tr>\n",
              "      <th>0</th>\n",
              "      <td>2022-08-29</td>\n",
              "      <td>111</td>\n",
              "      <td>100.0</td>\n",
              "      <td>32</td>\n",
              "      <td>28.83</td>\n",
              "      <td>7</td>\n",
              "      <td>6.31</td>\n",
              "      <td>5</td>\n",
              "      <td>4.50</td>\n",
              "    </tr>\n",
              "    <tr>\n",
              "      <th>1</th>\n",
              "      <td>2022-09-05</td>\n",
              "      <td>184</td>\n",
              "      <td>100.0</td>\n",
              "      <td>31</td>\n",
              "      <td>16.85</td>\n",
              "      <td>6</td>\n",
              "      <td>3.26</td>\n",
              "      <td>5</td>\n",
              "      <td>2.72</td>\n",
              "    </tr>\n",
              "    <tr>\n",
              "      <th>2</th>\n",
              "      <td>2022-09-12</td>\n",
              "      <td>167</td>\n",
              "      <td>100.0</td>\n",
              "      <td>43</td>\n",
              "      <td>25.75</td>\n",
              "      <td>16</td>\n",
              "      <td>9.58</td>\n",
              "      <td>8</td>\n",
              "      <td>4.79</td>\n",
              "    </tr>\n",
              "    <tr>\n",
              "      <th>3</th>\n",
              "      <td>2022-09-19</td>\n",
              "      <td>181</td>\n",
              "      <td>100.0</td>\n",
              "      <td>45</td>\n",
              "      <td>24.86</td>\n",
              "      <td>12</td>\n",
              "      <td>6.63</td>\n",
              "      <td>11</td>\n",
              "      <td>6.08</td>\n",
              "    </tr>\n",
              "    <tr>\n",
              "      <th>4</th>\n",
              "      <td>2022-09-26</td>\n",
              "      <td>195</td>\n",
              "      <td>100.0</td>\n",
              "      <td>59</td>\n",
              "      <td>30.26</td>\n",
              "      <td>17</td>\n",
              "      <td>8.72</td>\n",
              "      <td>17</td>\n",
              "      <td>8.72</td>\n",
              "    </tr>\n",
              "  </tbody>\n",
              "</table>\n",
              "</div>"
            ],
            "text/plain": [
              "         week  visits_count  visits_rate  registrations_count  \\\n",
              "0  2022-08-29           111        100.0                   32   \n",
              "1  2022-09-05           184        100.0                   31   \n",
              "2  2022-09-12           167        100.0                   43   \n",
              "3  2022-09-19           181        100.0                   45   \n",
              "4  2022-09-26           195        100.0                   59   \n",
              "\n",
              "   registrations_rate  applications_count  applications_rate  \\\n",
              "0               28.83                   7               6.31   \n",
              "1               16.85                   6               3.26   \n",
              "2               25.75                  16               9.58   \n",
              "3               24.86                  12               6.63   \n",
              "4               30.26                  17               8.72   \n",
              "\n",
              "   participants_count  participants_rate  \n",
              "0                   5               4.50  \n",
              "1                   5               2.72  \n",
              "2                   8               4.79  \n",
              "3                  11               6.08  \n",
              "4                  17               8.72  "
            ]
          },
          "execution_count": 15,
          "metadata": {},
          "output_type": "execute_result"
        }
      ],
      "source": [
        "df_week = pd.read_sql(\"\"\"\n",
        "    WITH counts_by_week AS (\n",
        "        SELECT\n",
        "            DATE_TRUNC('week', visit_dttm)::date AS week,\n",
        "            COUNT(distinct ma_client.client_rk) AS visits_count,\n",
        "            COUNT(distinct ma_account.account_rk) AS registrations_count,\n",
        "            COUNT(distinct ma_application.account_rk) AS applications_count,\n",
        "            COUNT(distinct ma_client.client_rk) FILTER(where game_flg = 1) AS participants_count\n",
        "        FROM msu_analytics.client AS ma_client\n",
        "        LEFT JOIN msu_analytics.account AS ma_account USING(client_rk)\n",
        "        LEFT JOIN msu_analytics.application AS ma_application USING(account_rk)\n",
        "        LEFT JOIN msu_analytics.game AS ma_game USING(game_rk)\n",
        "        GROUP BY week)\n",
        "    SELECT\n",
        "        week,\n",
        "        visits_count,\n",
        "        ROUND(visits_count / visits_count::decimal * 100, 2) AS visits_rate,\n",
        "        registrations_count,\n",
        "        ROUND(registrations_count / visits_count::decimal * 100, 2) AS registrations_rate,\n",
        "        applications_count,\n",
        "        ROUND(applications_count / visits_count::decimal * 100, 2) AS applications_rate,\n",
        "        participants_count,\n",
        "        ROUND(participants_count / visits_count::decimal * 100, 2) AS participants_rate\n",
        "    FROM counts_by_week\n",
        "    ORDER BY week\n",
        "\"\"\", conn)\n",
        "df_week.head()"
      ]
    },
    {
      "cell_type": "markdown",
      "id": "ecb177a1",
      "metadata": {
        "id": "ecb177a1"
      },
      "source": [
        "На основе полученных данных построим воронку, которая покажет в динамике месяцам, сколько клиентов посещает сайт, и какая доля из них регистрируется на нем \\ подает заявку на игру \\ по факту приходит на нее."
      ]
    },
    {
      "cell_type": "code",
      "execution_count": null,
      "id": "926a1690",
      "metadata": {
        "scrolled": false,
        "id": "926a1690",
        "outputId": "b7542f13-fc39-4260-a509-8488f2c8d2ce"
      },
      "outputs": [
        {
          "data": {
            "application/vnd.plotly.v1+json": {
              "config": {
                "plotlyServerURL": "https://plot.ly"
              },
              "data": [
                {
                  "hovertext": [
                    778,
                    843,
                    786,
                    805,
                    852,
                    32
                  ],
                  "marker": {
                    "color": "rgb(158,202,225)",
                    "opacity": 0.6
                  },
                  "name": "Посещения на сайте",
                  "type": "bar",
                  "x": [
                    "2022-09-01",
                    "2022-10-01",
                    "2022-11-01",
                    "2022-12-01",
                    "2023-01-01",
                    "2023-02-01"
                  ],
                  "y": [
                    778,
                    843,
                    786,
                    805,
                    852,
                    32
                  ]
                },
                {
                  "name": "конверсия из посещений в регистрацию",
                  "text": [
                    190,
                    217,
                    200,
                    196,
                    213,
                    8
                  ],
                  "type": "scatter",
                  "x": [
                    "2022-09-01",
                    "2022-10-01",
                    "2022-11-01",
                    "2022-12-01",
                    "2023-01-01",
                    "2023-02-01"
                  ],
                  "y": [
                    24.42,
                    25.74,
                    25.45,
                    24.35,
                    25,
                    25
                  ],
                  "yaxis": "y2"
                },
                {
                  "name": "конверсия из посещений в подачу заявки",
                  "text": [
                    51,
                    65,
                    56,
                    57,
                    64,
                    0
                  ],
                  "type": "scatter",
                  "x": [
                    "2022-09-01",
                    "2022-10-01",
                    "2022-11-01",
                    "2022-12-01",
                    "2023-01-01",
                    "2023-02-01"
                  ],
                  "y": [
                    6.56,
                    7.71,
                    7.12,
                    7.08,
                    7.51,
                    0
                  ],
                  "yaxis": "y2"
                },
                {
                  "name": "конверсия из посещений в посещение игры",
                  "text": [
                    39,
                    56,
                    50,
                    33,
                    20,
                    0
                  ],
                  "type": "scatter",
                  "x": [
                    "2022-09-01",
                    "2022-10-01",
                    "2022-11-01",
                    "2022-12-01",
                    "2023-01-01",
                    "2023-02-01"
                  ],
                  "y": [
                    5.01,
                    6.64,
                    6.36,
                    4.1,
                    2.35,
                    0
                  ],
                  "yaxis": "y2"
                }
              ],
              "layout": {
                "legend": {
                  "orientation": "h"
                },
                "template": {
                  "data": {
                    "bar": [
                      {
                        "error_x": {
                          "color": "#2a3f5f"
                        },
                        "error_y": {
                          "color": "#2a3f5f"
                        },
                        "marker": {
                          "line": {
                            "color": "#E5ECF6",
                            "width": 0.5
                          },
                          "pattern": {
                            "fillmode": "overlay",
                            "size": 10,
                            "solidity": 0.2
                          }
                        },
                        "type": "bar"
                      }
                    ],
                    "barpolar": [
                      {
                        "marker": {
                          "line": {
                            "color": "#E5ECF6",
                            "width": 0.5
                          },
                          "pattern": {
                            "fillmode": "overlay",
                            "size": 10,
                            "solidity": 0.2
                          }
                        },
                        "type": "barpolar"
                      }
                    ],
                    "carpet": [
                      {
                        "aaxis": {
                          "endlinecolor": "#2a3f5f",
                          "gridcolor": "white",
                          "linecolor": "white",
                          "minorgridcolor": "white",
                          "startlinecolor": "#2a3f5f"
                        },
                        "baxis": {
                          "endlinecolor": "#2a3f5f",
                          "gridcolor": "white",
                          "linecolor": "white",
                          "minorgridcolor": "white",
                          "startlinecolor": "#2a3f5f"
                        },
                        "type": "carpet"
                      }
                    ],
                    "choropleth": [
                      {
                        "colorbar": {
                          "outlinewidth": 0,
                          "ticks": ""
                        },
                        "type": "choropleth"
                      }
                    ],
                    "contour": [
                      {
                        "colorbar": {
                          "outlinewidth": 0,
                          "ticks": ""
                        },
                        "colorscale": [
                          [
                            0,
                            "#0d0887"
                          ],
                          [
                            0.1111111111111111,
                            "#46039f"
                          ],
                          [
                            0.2222222222222222,
                            "#7201a8"
                          ],
                          [
                            0.3333333333333333,
                            "#9c179e"
                          ],
                          [
                            0.4444444444444444,
                            "#bd3786"
                          ],
                          [
                            0.5555555555555556,
                            "#d8576b"
                          ],
                          [
                            0.6666666666666666,
                            "#ed7953"
                          ],
                          [
                            0.7777777777777778,
                            "#fb9f3a"
                          ],
                          [
                            0.8888888888888888,
                            "#fdca26"
                          ],
                          [
                            1,
                            "#f0f921"
                          ]
                        ],
                        "type": "contour"
                      }
                    ],
                    "contourcarpet": [
                      {
                        "colorbar": {
                          "outlinewidth": 0,
                          "ticks": ""
                        },
                        "type": "contourcarpet"
                      }
                    ],
                    "heatmap": [
                      {
                        "colorbar": {
                          "outlinewidth": 0,
                          "ticks": ""
                        },
                        "colorscale": [
                          [
                            0,
                            "#0d0887"
                          ],
                          [
                            0.1111111111111111,
                            "#46039f"
                          ],
                          [
                            0.2222222222222222,
                            "#7201a8"
                          ],
                          [
                            0.3333333333333333,
                            "#9c179e"
                          ],
                          [
                            0.4444444444444444,
                            "#bd3786"
                          ],
                          [
                            0.5555555555555556,
                            "#d8576b"
                          ],
                          [
                            0.6666666666666666,
                            "#ed7953"
                          ],
                          [
                            0.7777777777777778,
                            "#fb9f3a"
                          ],
                          [
                            0.8888888888888888,
                            "#fdca26"
                          ],
                          [
                            1,
                            "#f0f921"
                          ]
                        ],
                        "type": "heatmap"
                      }
                    ],
                    "heatmapgl": [
                      {
                        "colorbar": {
                          "outlinewidth": 0,
                          "ticks": ""
                        },
                        "colorscale": [
                          [
                            0,
                            "#0d0887"
                          ],
                          [
                            0.1111111111111111,
                            "#46039f"
                          ],
                          [
                            0.2222222222222222,
                            "#7201a8"
                          ],
                          [
                            0.3333333333333333,
                            "#9c179e"
                          ],
                          [
                            0.4444444444444444,
                            "#bd3786"
                          ],
                          [
                            0.5555555555555556,
                            "#d8576b"
                          ],
                          [
                            0.6666666666666666,
                            "#ed7953"
                          ],
                          [
                            0.7777777777777778,
                            "#fb9f3a"
                          ],
                          [
                            0.8888888888888888,
                            "#fdca26"
                          ],
                          [
                            1,
                            "#f0f921"
                          ]
                        ],
                        "type": "heatmapgl"
                      }
                    ],
                    "histogram": [
                      {
                        "marker": {
                          "pattern": {
                            "fillmode": "overlay",
                            "size": 10,
                            "solidity": 0.2
                          }
                        },
                        "type": "histogram"
                      }
                    ],
                    "histogram2d": [
                      {
                        "colorbar": {
                          "outlinewidth": 0,
                          "ticks": ""
                        },
                        "colorscale": [
                          [
                            0,
                            "#0d0887"
                          ],
                          [
                            0.1111111111111111,
                            "#46039f"
                          ],
                          [
                            0.2222222222222222,
                            "#7201a8"
                          ],
                          [
                            0.3333333333333333,
                            "#9c179e"
                          ],
                          [
                            0.4444444444444444,
                            "#bd3786"
                          ],
                          [
                            0.5555555555555556,
                            "#d8576b"
                          ],
                          [
                            0.6666666666666666,
                            "#ed7953"
                          ],
                          [
                            0.7777777777777778,
                            "#fb9f3a"
                          ],
                          [
                            0.8888888888888888,
                            "#fdca26"
                          ],
                          [
                            1,
                            "#f0f921"
                          ]
                        ],
                        "type": "histogram2d"
                      }
                    ],
                    "histogram2dcontour": [
                      {
                        "colorbar": {
                          "outlinewidth": 0,
                          "ticks": ""
                        },
                        "colorscale": [
                          [
                            0,
                            "#0d0887"
                          ],
                          [
                            0.1111111111111111,
                            "#46039f"
                          ],
                          [
                            0.2222222222222222,
                            "#7201a8"
                          ],
                          [
                            0.3333333333333333,
                            "#9c179e"
                          ],
                          [
                            0.4444444444444444,
                            "#bd3786"
                          ],
                          [
                            0.5555555555555556,
                            "#d8576b"
                          ],
                          [
                            0.6666666666666666,
                            "#ed7953"
                          ],
                          [
                            0.7777777777777778,
                            "#fb9f3a"
                          ],
                          [
                            0.8888888888888888,
                            "#fdca26"
                          ],
                          [
                            1,
                            "#f0f921"
                          ]
                        ],
                        "type": "histogram2dcontour"
                      }
                    ],
                    "mesh3d": [
                      {
                        "colorbar": {
                          "outlinewidth": 0,
                          "ticks": ""
                        },
                        "type": "mesh3d"
                      }
                    ],
                    "parcoords": [
                      {
                        "line": {
                          "colorbar": {
                            "outlinewidth": 0,
                            "ticks": ""
                          }
                        },
                        "type": "parcoords"
                      }
                    ],
                    "pie": [
                      {
                        "automargin": true,
                        "type": "pie"
                      }
                    ],
                    "scatter": [
                      {
                        "fillpattern": {
                          "fillmode": "overlay",
                          "size": 10,
                          "solidity": 0.2
                        },
                        "type": "scatter"
                      }
                    ],
                    "scatter3d": [
                      {
                        "line": {
                          "colorbar": {
                            "outlinewidth": 0,
                            "ticks": ""
                          }
                        },
                        "marker": {
                          "colorbar": {
                            "outlinewidth": 0,
                            "ticks": ""
                          }
                        },
                        "type": "scatter3d"
                      }
                    ],
                    "scattercarpet": [
                      {
                        "marker": {
                          "colorbar": {
                            "outlinewidth": 0,
                            "ticks": ""
                          }
                        },
                        "type": "scattercarpet"
                      }
                    ],
                    "scattergeo": [
                      {
                        "marker": {
                          "colorbar": {
                            "outlinewidth": 0,
                            "ticks": ""
                          }
                        },
                        "type": "scattergeo"
                      }
                    ],
                    "scattergl": [
                      {
                        "marker": {
                          "colorbar": {
                            "outlinewidth": 0,
                            "ticks": ""
                          }
                        },
                        "type": "scattergl"
                      }
                    ],
                    "scattermapbox": [
                      {
                        "marker": {
                          "colorbar": {
                            "outlinewidth": 0,
                            "ticks": ""
                          }
                        },
                        "type": "scattermapbox"
                      }
                    ],
                    "scatterpolar": [
                      {
                        "marker": {
                          "colorbar": {
                            "outlinewidth": 0,
                            "ticks": ""
                          }
                        },
                        "type": "scatterpolar"
                      }
                    ],
                    "scatterpolargl": [
                      {
                        "marker": {
                          "colorbar": {
                            "outlinewidth": 0,
                            "ticks": ""
                          }
                        },
                        "type": "scatterpolargl"
                      }
                    ],
                    "scatterternary": [
                      {
                        "marker": {
                          "colorbar": {
                            "outlinewidth": 0,
                            "ticks": ""
                          }
                        },
                        "type": "scatterternary"
                      }
                    ],
                    "surface": [
                      {
                        "colorbar": {
                          "outlinewidth": 0,
                          "ticks": ""
                        },
                        "colorscale": [
                          [
                            0,
                            "#0d0887"
                          ],
                          [
                            0.1111111111111111,
                            "#46039f"
                          ],
                          [
                            0.2222222222222222,
                            "#7201a8"
                          ],
                          [
                            0.3333333333333333,
                            "#9c179e"
                          ],
                          [
                            0.4444444444444444,
                            "#bd3786"
                          ],
                          [
                            0.5555555555555556,
                            "#d8576b"
                          ],
                          [
                            0.6666666666666666,
                            "#ed7953"
                          ],
                          [
                            0.7777777777777778,
                            "#fb9f3a"
                          ],
                          [
                            0.8888888888888888,
                            "#fdca26"
                          ],
                          [
                            1,
                            "#f0f921"
                          ]
                        ],
                        "type": "surface"
                      }
                    ],
                    "table": [
                      {
                        "cells": {
                          "fill": {
                            "color": "#EBF0F8"
                          },
                          "line": {
                            "color": "white"
                          }
                        },
                        "header": {
                          "fill": {
                            "color": "#C8D4E3"
                          },
                          "line": {
                            "color": "white"
                          }
                        },
                        "type": "table"
                      }
                    ]
                  },
                  "layout": {
                    "annotationdefaults": {
                      "arrowcolor": "#2a3f5f",
                      "arrowhead": 0,
                      "arrowwidth": 1
                    },
                    "autotypenumbers": "strict",
                    "coloraxis": {
                      "colorbar": {
                        "outlinewidth": 0,
                        "ticks": ""
                      }
                    },
                    "colorscale": {
                      "diverging": [
                        [
                          0,
                          "#8e0152"
                        ],
                        [
                          0.1,
                          "#c51b7d"
                        ],
                        [
                          0.2,
                          "#de77ae"
                        ],
                        [
                          0.3,
                          "#f1b6da"
                        ],
                        [
                          0.4,
                          "#fde0ef"
                        ],
                        [
                          0.5,
                          "#f7f7f7"
                        ],
                        [
                          0.6,
                          "#e6f5d0"
                        ],
                        [
                          0.7,
                          "#b8e186"
                        ],
                        [
                          0.8,
                          "#7fbc41"
                        ],
                        [
                          0.9,
                          "#4d9221"
                        ],
                        [
                          1,
                          "#276419"
                        ]
                      ],
                      "sequential": [
                        [
                          0,
                          "#0d0887"
                        ],
                        [
                          0.1111111111111111,
                          "#46039f"
                        ],
                        [
                          0.2222222222222222,
                          "#7201a8"
                        ],
                        [
                          0.3333333333333333,
                          "#9c179e"
                        ],
                        [
                          0.4444444444444444,
                          "#bd3786"
                        ],
                        [
                          0.5555555555555556,
                          "#d8576b"
                        ],
                        [
                          0.6666666666666666,
                          "#ed7953"
                        ],
                        [
                          0.7777777777777778,
                          "#fb9f3a"
                        ],
                        [
                          0.8888888888888888,
                          "#fdca26"
                        ],
                        [
                          1,
                          "#f0f921"
                        ]
                      ],
                      "sequentialminus": [
                        [
                          0,
                          "#0d0887"
                        ],
                        [
                          0.1111111111111111,
                          "#46039f"
                        ],
                        [
                          0.2222222222222222,
                          "#7201a8"
                        ],
                        [
                          0.3333333333333333,
                          "#9c179e"
                        ],
                        [
                          0.4444444444444444,
                          "#bd3786"
                        ],
                        [
                          0.5555555555555556,
                          "#d8576b"
                        ],
                        [
                          0.6666666666666666,
                          "#ed7953"
                        ],
                        [
                          0.7777777777777778,
                          "#fb9f3a"
                        ],
                        [
                          0.8888888888888888,
                          "#fdca26"
                        ],
                        [
                          1,
                          "#f0f921"
                        ]
                      ]
                    },
                    "colorway": [
                      "#636efa",
                      "#EF553B",
                      "#00cc96",
                      "#ab63fa",
                      "#FFA15A",
                      "#19d3f3",
                      "#FF6692",
                      "#B6E880",
                      "#FF97FF",
                      "#FECB52"
                    ],
                    "font": {
                      "color": "#2a3f5f"
                    },
                    "geo": {
                      "bgcolor": "white",
                      "lakecolor": "white",
                      "landcolor": "#E5ECF6",
                      "showlakes": true,
                      "showland": true,
                      "subunitcolor": "white"
                    },
                    "hoverlabel": {
                      "align": "left"
                    },
                    "hovermode": "closest",
                    "mapbox": {
                      "style": "light"
                    },
                    "paper_bgcolor": "white",
                    "plot_bgcolor": "#E5ECF6",
                    "polar": {
                      "angularaxis": {
                        "gridcolor": "white",
                        "linecolor": "white",
                        "ticks": ""
                      },
                      "bgcolor": "#E5ECF6",
                      "radialaxis": {
                        "gridcolor": "white",
                        "linecolor": "white",
                        "ticks": ""
                      }
                    },
                    "scene": {
                      "xaxis": {
                        "backgroundcolor": "#E5ECF6",
                        "gridcolor": "white",
                        "gridwidth": 2,
                        "linecolor": "white",
                        "showbackground": true,
                        "ticks": "",
                        "zerolinecolor": "white"
                      },
                      "yaxis": {
                        "backgroundcolor": "#E5ECF6",
                        "gridcolor": "white",
                        "gridwidth": 2,
                        "linecolor": "white",
                        "showbackground": true,
                        "ticks": "",
                        "zerolinecolor": "white"
                      },
                      "zaxis": {
                        "backgroundcolor": "#E5ECF6",
                        "gridcolor": "white",
                        "gridwidth": 2,
                        "linecolor": "white",
                        "showbackground": true,
                        "ticks": "",
                        "zerolinecolor": "white"
                      }
                    },
                    "shapedefaults": {
                      "line": {
                        "color": "#2a3f5f"
                      }
                    },
                    "ternary": {
                      "aaxis": {
                        "gridcolor": "white",
                        "linecolor": "white",
                        "ticks": ""
                      },
                      "baxis": {
                        "gridcolor": "white",
                        "linecolor": "white",
                        "ticks": ""
                      },
                      "bgcolor": "#E5ECF6",
                      "caxis": {
                        "gridcolor": "white",
                        "linecolor": "white",
                        "ticks": ""
                      }
                    },
                    "title": {
                      "x": 0.05
                    },
                    "xaxis": {
                      "automargin": true,
                      "gridcolor": "white",
                      "linecolor": "white",
                      "ticks": "",
                      "title": {
                        "standoff": 15
                      },
                      "zerolinecolor": "white",
                      "zerolinewidth": 2
                    },
                    "yaxis": {
                      "automargin": true,
                      "gridcolor": "white",
                      "linecolor": "white",
                      "ticks": "",
                      "title": {
                        "standoff": 15
                      },
                      "zerolinecolor": "white",
                      "zerolinewidth": 2
                    }
                  }
                },
                "title": {
                  "text": "Воронка по месяцам"
                },
                "xaxis": {
                  "title": {
                    "text": "Месяц"
                  }
                },
                "yaxis": {
                  "side": "left",
                  "title": {
                    "text": "Количество посещений"
                  }
                },
                "yaxis2": {
                  "overlaying": "y",
                  "range": [
                    0,
                    100
                  ],
                  "side": "right",
                  "tickmode": "sync",
                  "ticksuffix": "%",
                  "title": {
                    "text": "Конверсии"
                  }
                }
              }
            },
            "text/html": [
              "<div>                            <div id=\"4293cabb-e00e-4ddd-ad34-ce82a3e634ae\" class=\"plotly-graph-div\" style=\"height:525px; width:100%;\"></div>            <script type=\"text/javascript\">                require([\"plotly\"], function(Plotly) {                    window.PLOTLYENV=window.PLOTLYENV || {};                                    if (document.getElementById(\"4293cabb-e00e-4ddd-ad34-ce82a3e634ae\")) {                    Plotly.newPlot(                        \"4293cabb-e00e-4ddd-ad34-ce82a3e634ae\",                        [{\"hovertext\":[778.0,843.0,786.0,805.0,852.0,32.0],\"marker\":{\"color\":\"rgb(158,202,225)\",\"opacity\":0.6},\"name\":\"\\u041f\\u043e\\u0441\\u0435\\u0449\\u0435\\u043d\\u0438\\u044f \\u043d\\u0430 \\u0441\\u0430\\u0439\\u0442\\u0435\",\"x\":[\"2022-09-01\",\"2022-10-01\",\"2022-11-01\",\"2022-12-01\",\"2023-01-01\",\"2023-02-01\"],\"y\":[778,843,786,805,852,32],\"type\":\"bar\"},{\"name\":\"\\u043a\\u043e\\u043d\\u0432\\u0435\\u0440\\u0441\\u0438\\u044f \\u0438\\u0437 \\u043f\\u043e\\u0441\\u0435\\u0449\\u0435\\u043d\\u0438\\u0439 \\u0432 \\u0440\\u0435\\u0433\\u0438\\u0441\\u0442\\u0440\\u0430\\u0446\\u0438\\u044e\",\"text\":[190.0,217.0,200.0,196.0,213.0,8.0],\"x\":[\"2022-09-01\",\"2022-10-01\",\"2022-11-01\",\"2022-12-01\",\"2023-01-01\",\"2023-02-01\"],\"y\":[24.42,25.74,25.45,24.35,25.0,25.0],\"yaxis\":\"y2\",\"type\":\"scatter\"},{\"name\":\"\\u043a\\u043e\\u043d\\u0432\\u0435\\u0440\\u0441\\u0438\\u044f \\u0438\\u0437 \\u043f\\u043e\\u0441\\u0435\\u0449\\u0435\\u043d\\u0438\\u0439 \\u0432 \\u043f\\u043e\\u0434\\u0430\\u0447\\u0443 \\u0437\\u0430\\u044f\\u0432\\u043a\\u0438\",\"text\":[51.0,65.0,56.0,57.0,64.0,0.0],\"x\":[\"2022-09-01\",\"2022-10-01\",\"2022-11-01\",\"2022-12-01\",\"2023-01-01\",\"2023-02-01\"],\"y\":[6.56,7.71,7.12,7.08,7.51,0.0],\"yaxis\":\"y2\",\"type\":\"scatter\"},{\"name\":\"\\u043a\\u043e\\u043d\\u0432\\u0435\\u0440\\u0441\\u0438\\u044f \\u0438\\u0437 \\u043f\\u043e\\u0441\\u0435\\u0449\\u0435\\u043d\\u0438\\u0439 \\u0432 \\u043f\\u043e\\u0441\\u0435\\u0449\\u0435\\u043d\\u0438\\u0435 \\u0438\\u0433\\u0440\\u044b\",\"text\":[39.0,56.0,50.0,33.0,20.0,0.0],\"x\":[\"2022-09-01\",\"2022-10-01\",\"2022-11-01\",\"2022-12-01\",\"2023-01-01\",\"2023-02-01\"],\"y\":[5.01,6.64,6.36,4.1,2.35,0.0],\"yaxis\":\"y2\",\"type\":\"scatter\"}],                        {\"template\":{\"data\":{\"histogram2dcontour\":[{\"type\":\"histogram2dcontour\",\"colorbar\":{\"outlinewidth\":0,\"ticks\":\"\"},\"colorscale\":[[0.0,\"#0d0887\"],[0.1111111111111111,\"#46039f\"],[0.2222222222222222,\"#7201a8\"],[0.3333333333333333,\"#9c179e\"],[0.4444444444444444,\"#bd3786\"],[0.5555555555555556,\"#d8576b\"],[0.6666666666666666,\"#ed7953\"],[0.7777777777777778,\"#fb9f3a\"],[0.8888888888888888,\"#fdca26\"],[1.0,\"#f0f921\"]]}],\"choropleth\":[{\"type\":\"choropleth\",\"colorbar\":{\"outlinewidth\":0,\"ticks\":\"\"}}],\"histogram2d\":[{\"type\":\"histogram2d\",\"colorbar\":{\"outlinewidth\":0,\"ticks\":\"\"},\"colorscale\":[[0.0,\"#0d0887\"],[0.1111111111111111,\"#46039f\"],[0.2222222222222222,\"#7201a8\"],[0.3333333333333333,\"#9c179e\"],[0.4444444444444444,\"#bd3786\"],[0.5555555555555556,\"#d8576b\"],[0.6666666666666666,\"#ed7953\"],[0.7777777777777778,\"#fb9f3a\"],[0.8888888888888888,\"#fdca26\"],[1.0,\"#f0f921\"]]}],\"heatmap\":[{\"type\":\"heatmap\",\"colorbar\":{\"outlinewidth\":0,\"ticks\":\"\"},\"colorscale\":[[0.0,\"#0d0887\"],[0.1111111111111111,\"#46039f\"],[0.2222222222222222,\"#7201a8\"],[0.3333333333333333,\"#9c179e\"],[0.4444444444444444,\"#bd3786\"],[0.5555555555555556,\"#d8576b\"],[0.6666666666666666,\"#ed7953\"],[0.7777777777777778,\"#fb9f3a\"],[0.8888888888888888,\"#fdca26\"],[1.0,\"#f0f921\"]]}],\"heatmapgl\":[{\"type\":\"heatmapgl\",\"colorbar\":{\"outlinewidth\":0,\"ticks\":\"\"},\"colorscale\":[[0.0,\"#0d0887\"],[0.1111111111111111,\"#46039f\"],[0.2222222222222222,\"#7201a8\"],[0.3333333333333333,\"#9c179e\"],[0.4444444444444444,\"#bd3786\"],[0.5555555555555556,\"#d8576b\"],[0.6666666666666666,\"#ed7953\"],[0.7777777777777778,\"#fb9f3a\"],[0.8888888888888888,\"#fdca26\"],[1.0,\"#f0f921\"]]}],\"contourcarpet\":[{\"type\":\"contourcarpet\",\"colorbar\":{\"outlinewidth\":0,\"ticks\":\"\"}}],\"contour\":[{\"type\":\"contour\",\"colorbar\":{\"outlinewidth\":0,\"ticks\":\"\"},\"colorscale\":[[0.0,\"#0d0887\"],[0.1111111111111111,\"#46039f\"],[0.2222222222222222,\"#7201a8\"],[0.3333333333333333,\"#9c179e\"],[0.4444444444444444,\"#bd3786\"],[0.5555555555555556,\"#d8576b\"],[0.6666666666666666,\"#ed7953\"],[0.7777777777777778,\"#fb9f3a\"],[0.8888888888888888,\"#fdca26\"],[1.0,\"#f0f921\"]]}],\"surface\":[{\"type\":\"surface\",\"colorbar\":{\"outlinewidth\":0,\"ticks\":\"\"},\"colorscale\":[[0.0,\"#0d0887\"],[0.1111111111111111,\"#46039f\"],[0.2222222222222222,\"#7201a8\"],[0.3333333333333333,\"#9c179e\"],[0.4444444444444444,\"#bd3786\"],[0.5555555555555556,\"#d8576b\"],[0.6666666666666666,\"#ed7953\"],[0.7777777777777778,\"#fb9f3a\"],[0.8888888888888888,\"#fdca26\"],[1.0,\"#f0f921\"]]}],\"mesh3d\":[{\"type\":\"mesh3d\",\"colorbar\":{\"outlinewidth\":0,\"ticks\":\"\"}}],\"scatter\":[{\"fillpattern\":{\"fillmode\":\"overlay\",\"size\":10,\"solidity\":0.2},\"type\":\"scatter\"}],\"parcoords\":[{\"type\":\"parcoords\",\"line\":{\"colorbar\":{\"outlinewidth\":0,\"ticks\":\"\"}}}],\"scatterpolargl\":[{\"type\":\"scatterpolargl\",\"marker\":{\"colorbar\":{\"outlinewidth\":0,\"ticks\":\"\"}}}],\"bar\":[{\"error_x\":{\"color\":\"#2a3f5f\"},\"error_y\":{\"color\":\"#2a3f5f\"},\"marker\":{\"line\":{\"color\":\"#E5ECF6\",\"width\":0.5},\"pattern\":{\"fillmode\":\"overlay\",\"size\":10,\"solidity\":0.2}},\"type\":\"bar\"}],\"scattergeo\":[{\"type\":\"scattergeo\",\"marker\":{\"colorbar\":{\"outlinewidth\":0,\"ticks\":\"\"}}}],\"scatterpolar\":[{\"type\":\"scatterpolar\",\"marker\":{\"colorbar\":{\"outlinewidth\":0,\"ticks\":\"\"}}}],\"histogram\":[{\"marker\":{\"pattern\":{\"fillmode\":\"overlay\",\"size\":10,\"solidity\":0.2}},\"type\":\"histogram\"}],\"scattergl\":[{\"type\":\"scattergl\",\"marker\":{\"colorbar\":{\"outlinewidth\":0,\"ticks\":\"\"}}}],\"scatter3d\":[{\"type\":\"scatter3d\",\"line\":{\"colorbar\":{\"outlinewidth\":0,\"ticks\":\"\"}},\"marker\":{\"colorbar\":{\"outlinewidth\":0,\"ticks\":\"\"}}}],\"scattermapbox\":[{\"type\":\"scattermapbox\",\"marker\":{\"colorbar\":{\"outlinewidth\":0,\"ticks\":\"\"}}}],\"scatterternary\":[{\"type\":\"scatterternary\",\"marker\":{\"colorbar\":{\"outlinewidth\":0,\"ticks\":\"\"}}}],\"scattercarpet\":[{\"type\":\"scattercarpet\",\"marker\":{\"colorbar\":{\"outlinewidth\":0,\"ticks\":\"\"}}}],\"carpet\":[{\"aaxis\":{\"endlinecolor\":\"#2a3f5f\",\"gridcolor\":\"white\",\"linecolor\":\"white\",\"minorgridcolor\":\"white\",\"startlinecolor\":\"#2a3f5f\"},\"baxis\":{\"endlinecolor\":\"#2a3f5f\",\"gridcolor\":\"white\",\"linecolor\":\"white\",\"minorgridcolor\":\"white\",\"startlinecolor\":\"#2a3f5f\"},\"type\":\"carpet\"}],\"table\":[{\"cells\":{\"fill\":{\"color\":\"#EBF0F8\"},\"line\":{\"color\":\"white\"}},\"header\":{\"fill\":{\"color\":\"#C8D4E3\"},\"line\":{\"color\":\"white\"}},\"type\":\"table\"}],\"barpolar\":[{\"marker\":{\"line\":{\"color\":\"#E5ECF6\",\"width\":0.5},\"pattern\":{\"fillmode\":\"overlay\",\"size\":10,\"solidity\":0.2}},\"type\":\"barpolar\"}],\"pie\":[{\"automargin\":true,\"type\":\"pie\"}]},\"layout\":{\"autotypenumbers\":\"strict\",\"colorway\":[\"#636efa\",\"#EF553B\",\"#00cc96\",\"#ab63fa\",\"#FFA15A\",\"#19d3f3\",\"#FF6692\",\"#B6E880\",\"#FF97FF\",\"#FECB52\"],\"font\":{\"color\":\"#2a3f5f\"},\"hovermode\":\"closest\",\"hoverlabel\":{\"align\":\"left\"},\"paper_bgcolor\":\"white\",\"plot_bgcolor\":\"#E5ECF6\",\"polar\":{\"bgcolor\":\"#E5ECF6\",\"angularaxis\":{\"gridcolor\":\"white\",\"linecolor\":\"white\",\"ticks\":\"\"},\"radialaxis\":{\"gridcolor\":\"white\",\"linecolor\":\"white\",\"ticks\":\"\"}},\"ternary\":{\"bgcolor\":\"#E5ECF6\",\"aaxis\":{\"gridcolor\":\"white\",\"linecolor\":\"white\",\"ticks\":\"\"},\"baxis\":{\"gridcolor\":\"white\",\"linecolor\":\"white\",\"ticks\":\"\"},\"caxis\":{\"gridcolor\":\"white\",\"linecolor\":\"white\",\"ticks\":\"\"}},\"coloraxis\":{\"colorbar\":{\"outlinewidth\":0,\"ticks\":\"\"}},\"colorscale\":{\"sequential\":[[0.0,\"#0d0887\"],[0.1111111111111111,\"#46039f\"],[0.2222222222222222,\"#7201a8\"],[0.3333333333333333,\"#9c179e\"],[0.4444444444444444,\"#bd3786\"],[0.5555555555555556,\"#d8576b\"],[0.6666666666666666,\"#ed7953\"],[0.7777777777777778,\"#fb9f3a\"],[0.8888888888888888,\"#fdca26\"],[1.0,\"#f0f921\"]],\"sequentialminus\":[[0.0,\"#0d0887\"],[0.1111111111111111,\"#46039f\"],[0.2222222222222222,\"#7201a8\"],[0.3333333333333333,\"#9c179e\"],[0.4444444444444444,\"#bd3786\"],[0.5555555555555556,\"#d8576b\"],[0.6666666666666666,\"#ed7953\"],[0.7777777777777778,\"#fb9f3a\"],[0.8888888888888888,\"#fdca26\"],[1.0,\"#f0f921\"]],\"diverging\":[[0,\"#8e0152\"],[0.1,\"#c51b7d\"],[0.2,\"#de77ae\"],[0.3,\"#f1b6da\"],[0.4,\"#fde0ef\"],[0.5,\"#f7f7f7\"],[0.6,\"#e6f5d0\"],[0.7,\"#b8e186\"],[0.8,\"#7fbc41\"],[0.9,\"#4d9221\"],[1,\"#276419\"]]},\"xaxis\":{\"gridcolor\":\"white\",\"linecolor\":\"white\",\"ticks\":\"\",\"title\":{\"standoff\":15},\"zerolinecolor\":\"white\",\"automargin\":true,\"zerolinewidth\":2},\"yaxis\":{\"gridcolor\":\"white\",\"linecolor\":\"white\",\"ticks\":\"\",\"title\":{\"standoff\":15},\"zerolinecolor\":\"white\",\"automargin\":true,\"zerolinewidth\":2},\"scene\":{\"xaxis\":{\"backgroundcolor\":\"#E5ECF6\",\"gridcolor\":\"white\",\"linecolor\":\"white\",\"showbackground\":true,\"ticks\":\"\",\"zerolinecolor\":\"white\",\"gridwidth\":2},\"yaxis\":{\"backgroundcolor\":\"#E5ECF6\",\"gridcolor\":\"white\",\"linecolor\":\"white\",\"showbackground\":true,\"ticks\":\"\",\"zerolinecolor\":\"white\",\"gridwidth\":2},\"zaxis\":{\"backgroundcolor\":\"#E5ECF6\",\"gridcolor\":\"white\",\"linecolor\":\"white\",\"showbackground\":true,\"ticks\":\"\",\"zerolinecolor\":\"white\",\"gridwidth\":2}},\"shapedefaults\":{\"line\":{\"color\":\"#2a3f5f\"}},\"annotationdefaults\":{\"arrowcolor\":\"#2a3f5f\",\"arrowhead\":0,\"arrowwidth\":1},\"geo\":{\"bgcolor\":\"white\",\"landcolor\":\"#E5ECF6\",\"subunitcolor\":\"white\",\"showland\":true,\"showlakes\":true,\"lakecolor\":\"white\"},\"title\":{\"x\":0.05},\"mapbox\":{\"style\":\"light\"}}},\"legend\":{\"orientation\":\"h\"},\"yaxis\":{\"title\":{\"text\":\"\\u041a\\u043e\\u043b\\u0438\\u0447\\u0435\\u0441\\u0442\\u0432\\u043e \\u043f\\u043e\\u0441\\u0435\\u0449\\u0435\\u043d\\u0438\\u0439\"},\"side\":\"left\"},\"yaxis2\":{\"title\":{\"text\":\"\\u041a\\u043e\\u043d\\u0432\\u0435\\u0440\\u0441\\u0438\\u0438\"},\"side\":\"right\",\"overlaying\":\"y\",\"tickmode\":\"sync\",\"range\":[0,100],\"ticksuffix\":\"%\"},\"title\":{\"text\":\"\\u0412\\u043e\\u0440\\u043e\\u043d\\u043a\\u0430 \\u043f\\u043e \\u043c\\u0435\\u0441\\u044f\\u0446\\u0430\\u043c\"},\"xaxis\":{\"title\":{\"text\":\"\\u041c\\u0435\\u0441\\u044f\\u0446\"}}},                        {\"responsive\": true}                    ).then(function(){\n",
              "                            \n",
              "var gd = document.getElementById('4293cabb-e00e-4ddd-ad34-ce82a3e634ae');\n",
              "var x = new MutationObserver(function (mutations, observer) {{\n",
              "        var display = window.getComputedStyle(gd).display;\n",
              "        if (!display || display === 'none') {{\n",
              "            console.log([gd, 'removed!']);\n",
              "            Plotly.purge(gd);\n",
              "            observer.disconnect();\n",
              "        }}\n",
              "}});\n",
              "\n",
              "// Listen for the removal of the full notebook cells\n",
              "var notebookContainer = gd.closest('#notebook-container');\n",
              "if (notebookContainer) {{\n",
              "    x.observe(notebookContainer, {childList: true});\n",
              "}}\n",
              "\n",
              "// Listen for the clearing of the current output cell\n",
              "var outputEl = gd.closest('.output');\n",
              "if (outputEl) {{\n",
              "    x.observe(outputEl, {childList: true});\n",
              "}}\n",
              "\n",
              "                        })                };                });            </script>        </div>"
            ]
          },
          "metadata": {},
          "output_type": "display_data"
        }
      ],
      "source": [
        "fig = go.Figure(\n",
        "    data=go.Bar(\n",
        "        name = 'Посещения на сайте',\n",
        "        x = df_month.month,\n",
        "        y = df_month.visits_count,\n",
        "        hovertext = df_month.visits_count,\n",
        "        marker=dict(color = 'rgb(158,202,225)', opacity=0.6),\n",
        "    )\n",
        ")\n",
        "\n",
        "fig.add_trace(go.Scatter(\n",
        "    name = 'конверсия из посещений в регистрацию',\n",
        "    x = df_month.month,\n",
        "    y = df_month.registrations_rate,\n",
        "    text = df_month.registrations_count,\n",
        "    yaxis=\"y2\"\n",
        "))\n",
        "fig.add_trace(go.Scatter(\n",
        "    name = 'конверсия из посещений в подачу заявки',\n",
        "    x = df_month.month,\n",
        "    y = df_month.applications_rate,\n",
        "    text = df_month.applications_count,\n",
        "    yaxis=\"y2\"\n",
        "))\n",
        "fig.add_trace(go.Scatter(\n",
        "    name = 'конверсия из посещений в посещение игры',\n",
        "    x = df_month.month,\n",
        "    y = df_month.participants_rate,\n",
        "    text = df_month.participants_count,\n",
        "    yaxis=\"y2\"\n",
        "))\n",
        "\n",
        "fig.update_layout(\n",
        "    legend=dict(orientation=\"h\"),\n",
        "    yaxis=dict(\n",
        "        title=dict(text=\"Количество посещений\"),\n",
        "        side=\"left\",\n",
        "    ),\n",
        "    yaxis2=dict(\n",
        "        title=dict(text=\"Конверсии\"),\n",
        "        side=\"right\",\n",
        "        overlaying=\"y\",\n",
        "        tickmode=\"sync\",\n",
        "        range = [0, 100],\n",
        "        ticksuffix='%'\n",
        "    ),\n",
        "    title_text='Воронка по месяцам',\n",
        "    xaxis_title='Месяц',\n",
        ")\n",
        "\n",
        "fig.show()"
      ]
    },
    {
      "cell_type": "markdown",
      "id": "e41d9326",
      "metadata": {
        "id": "e41d9326"
      },
      "source": [
        "На месячном графике видим стабильное количество посещений в диапазоне с 770 до 850 человек. <br>\n",
        "Конверсия регистраций и подач заявок держаться на одном уровне, 25% регистраций и 6-7% заявок соответственно. <br>\n",
        "Что же касается конверсии посещения игр, то здесь, достигнув пика, мы видим постепенное снижение, начиная с октября 2022 года. <br>"
      ]
    },
    {
      "cell_type": "markdown",
      "id": "e10c7c95",
      "metadata": {
        "id": "e10c7c95"
      },
      "source": [
        "Для более подробного анализа построим и посмотрим на недельный график."
      ]
    },
    {
      "cell_type": "code",
      "execution_count": null,
      "id": "b73ed2cd",
      "metadata": {
        "scrolled": false,
        "id": "b73ed2cd",
        "outputId": "a261cb6f-d009-433f-c8ca-d09956ec2dbf"
      },
      "outputs": [
        {
          "data": {
            "application/vnd.plotly.v1+json": {
              "config": {
                "plotlyServerURL": "https://plot.ly"
              },
              "data": [
                {
                  "marker": {
                    "color": "rgb(158,202,225)",
                    "opacity": 0.6
                  },
                  "name": "Посещения на сайте",
                  "type": "bar",
                  "x": [
                    "2022-08-29",
                    "2022-09-05",
                    "2022-09-12",
                    "2022-09-19",
                    "2022-09-26",
                    "2022-10-03",
                    "2022-10-10",
                    "2022-10-17",
                    "2022-10-24",
                    "2022-10-31",
                    "2022-11-07",
                    "2022-11-14",
                    "2022-11-21",
                    "2022-11-28",
                    "2022-12-05",
                    "2022-12-12",
                    "2022-12-19",
                    "2022-12-26",
                    "2023-01-02",
                    "2023-01-09",
                    "2023-01-16",
                    "2023-01-23",
                    "2023-01-30"
                  ],
                  "y": [
                    111,
                    184,
                    167,
                    181,
                    195,
                    204,
                    190,
                    171,
                    189,
                    197,
                    173,
                    179,
                    180,
                    177,
                    168,
                    196,
                    192,
                    192,
                    201,
                    205,
                    181,
                    182,
                    81
                  ]
                },
                {
                  "name": "конверсия из посещений в регистрацию",
                  "text": [
                    32,
                    31,
                    43,
                    45,
                    59,
                    58,
                    44,
                    41,
                    48,
                    47,
                    41,
                    39,
                    49,
                    45,
                    47,
                    52,
                    46,
                    46,
                    58,
                    47,
                    43,
                    41,
                    22
                  ],
                  "type": "scatter",
                  "x": [
                    "2022-08-29",
                    "2022-09-05",
                    "2022-09-12",
                    "2022-09-19",
                    "2022-09-26",
                    "2022-10-03",
                    "2022-10-10",
                    "2022-10-17",
                    "2022-10-24",
                    "2022-10-31",
                    "2022-11-07",
                    "2022-11-14",
                    "2022-11-21",
                    "2022-11-28",
                    "2022-12-05",
                    "2022-12-12",
                    "2022-12-19",
                    "2022-12-26",
                    "2023-01-02",
                    "2023-01-09",
                    "2023-01-16",
                    "2023-01-23",
                    "2023-01-30"
                  ],
                  "y": [
                    28.83,
                    16.85,
                    25.75,
                    24.86,
                    30.26,
                    28.43,
                    23.16,
                    23.98,
                    25.4,
                    23.86,
                    23.7,
                    21.79,
                    27.22,
                    25.42,
                    27.98,
                    26.53,
                    23.96,
                    23.96,
                    28.86,
                    22.93,
                    23.76,
                    22.53,
                    27.16
                  ],
                  "yaxis": "y2"
                },
                {
                  "name": "конверсия из посещений в подачу заявки",
                  "text": [
                    7,
                    6,
                    16,
                    12,
                    17,
                    18,
                    13,
                    12,
                    15,
                    16,
                    12,
                    7,
                    14,
                    12,
                    15,
                    14,
                    16,
                    10,
                    16,
                    14,
                    13,
                    13,
                    5
                  ],
                  "type": "scatter",
                  "x": [
                    "2022-08-29",
                    "2022-09-05",
                    "2022-09-12",
                    "2022-09-19",
                    "2022-09-26",
                    "2022-10-03",
                    "2022-10-10",
                    "2022-10-17",
                    "2022-10-24",
                    "2022-10-31",
                    "2022-11-07",
                    "2022-11-14",
                    "2022-11-21",
                    "2022-11-28",
                    "2022-12-05",
                    "2022-12-12",
                    "2022-12-19",
                    "2022-12-26",
                    "2023-01-02",
                    "2023-01-09",
                    "2023-01-16",
                    "2023-01-23",
                    "2023-01-30"
                  ],
                  "y": [
                    6.31,
                    3.26,
                    9.58,
                    6.63,
                    8.72,
                    8.82,
                    6.84,
                    7.02,
                    7.94,
                    8.12,
                    6.94,
                    3.91,
                    7.78,
                    6.78,
                    8.93,
                    7.14,
                    8.33,
                    5.21,
                    7.96,
                    6.83,
                    7.18,
                    7.14,
                    6.17
                  ],
                  "yaxis": "y2"
                },
                {
                  "name": "конверсия из посещений в посещение игры",
                  "text": [
                    5,
                    5,
                    8,
                    11,
                    17,
                    15,
                    13,
                    10,
                    11,
                    14,
                    11,
                    5,
                    14,
                    10,
                    12,
                    6,
                    8,
                    4,
                    4,
                    6,
                    4,
                    5,
                    0
                  ],
                  "type": "scatter",
                  "x": [
                    "2022-08-29",
                    "2022-09-05",
                    "2022-09-12",
                    "2022-09-19",
                    "2022-09-26",
                    "2022-10-03",
                    "2022-10-10",
                    "2022-10-17",
                    "2022-10-24",
                    "2022-10-31",
                    "2022-11-07",
                    "2022-11-14",
                    "2022-11-21",
                    "2022-11-28",
                    "2022-12-05",
                    "2022-12-12",
                    "2022-12-19",
                    "2022-12-26",
                    "2023-01-02",
                    "2023-01-09",
                    "2023-01-16",
                    "2023-01-23",
                    "2023-01-30"
                  ],
                  "y": [
                    4.5,
                    2.72,
                    4.79,
                    6.08,
                    8.72,
                    7.35,
                    6.84,
                    5.85,
                    5.82,
                    7.11,
                    6.36,
                    2.79,
                    7.78,
                    5.65,
                    7.14,
                    3.06,
                    4.17,
                    2.08,
                    1.99,
                    2.93,
                    2.21,
                    2.75,
                    0
                  ],
                  "yaxis": "y2"
                }
              ],
              "layout": {
                "legend": {
                  "orientation": "h"
                },
                "template": {
                  "data": {
                    "bar": [
                      {
                        "error_x": {
                          "color": "#2a3f5f"
                        },
                        "error_y": {
                          "color": "#2a3f5f"
                        },
                        "marker": {
                          "line": {
                            "color": "#E5ECF6",
                            "width": 0.5
                          },
                          "pattern": {
                            "fillmode": "overlay",
                            "size": 10,
                            "solidity": 0.2
                          }
                        },
                        "type": "bar"
                      }
                    ],
                    "barpolar": [
                      {
                        "marker": {
                          "line": {
                            "color": "#E5ECF6",
                            "width": 0.5
                          },
                          "pattern": {
                            "fillmode": "overlay",
                            "size": 10,
                            "solidity": 0.2
                          }
                        },
                        "type": "barpolar"
                      }
                    ],
                    "carpet": [
                      {
                        "aaxis": {
                          "endlinecolor": "#2a3f5f",
                          "gridcolor": "white",
                          "linecolor": "white",
                          "minorgridcolor": "white",
                          "startlinecolor": "#2a3f5f"
                        },
                        "baxis": {
                          "endlinecolor": "#2a3f5f",
                          "gridcolor": "white",
                          "linecolor": "white",
                          "minorgridcolor": "white",
                          "startlinecolor": "#2a3f5f"
                        },
                        "type": "carpet"
                      }
                    ],
                    "choropleth": [
                      {
                        "colorbar": {
                          "outlinewidth": 0,
                          "ticks": ""
                        },
                        "type": "choropleth"
                      }
                    ],
                    "contour": [
                      {
                        "colorbar": {
                          "outlinewidth": 0,
                          "ticks": ""
                        },
                        "colorscale": [
                          [
                            0,
                            "#0d0887"
                          ],
                          [
                            0.1111111111111111,
                            "#46039f"
                          ],
                          [
                            0.2222222222222222,
                            "#7201a8"
                          ],
                          [
                            0.3333333333333333,
                            "#9c179e"
                          ],
                          [
                            0.4444444444444444,
                            "#bd3786"
                          ],
                          [
                            0.5555555555555556,
                            "#d8576b"
                          ],
                          [
                            0.6666666666666666,
                            "#ed7953"
                          ],
                          [
                            0.7777777777777778,
                            "#fb9f3a"
                          ],
                          [
                            0.8888888888888888,
                            "#fdca26"
                          ],
                          [
                            1,
                            "#f0f921"
                          ]
                        ],
                        "type": "contour"
                      }
                    ],
                    "contourcarpet": [
                      {
                        "colorbar": {
                          "outlinewidth": 0,
                          "ticks": ""
                        },
                        "type": "contourcarpet"
                      }
                    ],
                    "heatmap": [
                      {
                        "colorbar": {
                          "outlinewidth": 0,
                          "ticks": ""
                        },
                        "colorscale": [
                          [
                            0,
                            "#0d0887"
                          ],
                          [
                            0.1111111111111111,
                            "#46039f"
                          ],
                          [
                            0.2222222222222222,
                            "#7201a8"
                          ],
                          [
                            0.3333333333333333,
                            "#9c179e"
                          ],
                          [
                            0.4444444444444444,
                            "#bd3786"
                          ],
                          [
                            0.5555555555555556,
                            "#d8576b"
                          ],
                          [
                            0.6666666666666666,
                            "#ed7953"
                          ],
                          [
                            0.7777777777777778,
                            "#fb9f3a"
                          ],
                          [
                            0.8888888888888888,
                            "#fdca26"
                          ],
                          [
                            1,
                            "#f0f921"
                          ]
                        ],
                        "type": "heatmap"
                      }
                    ],
                    "heatmapgl": [
                      {
                        "colorbar": {
                          "outlinewidth": 0,
                          "ticks": ""
                        },
                        "colorscale": [
                          [
                            0,
                            "#0d0887"
                          ],
                          [
                            0.1111111111111111,
                            "#46039f"
                          ],
                          [
                            0.2222222222222222,
                            "#7201a8"
                          ],
                          [
                            0.3333333333333333,
                            "#9c179e"
                          ],
                          [
                            0.4444444444444444,
                            "#bd3786"
                          ],
                          [
                            0.5555555555555556,
                            "#d8576b"
                          ],
                          [
                            0.6666666666666666,
                            "#ed7953"
                          ],
                          [
                            0.7777777777777778,
                            "#fb9f3a"
                          ],
                          [
                            0.8888888888888888,
                            "#fdca26"
                          ],
                          [
                            1,
                            "#f0f921"
                          ]
                        ],
                        "type": "heatmapgl"
                      }
                    ],
                    "histogram": [
                      {
                        "marker": {
                          "pattern": {
                            "fillmode": "overlay",
                            "size": 10,
                            "solidity": 0.2
                          }
                        },
                        "type": "histogram"
                      }
                    ],
                    "histogram2d": [
                      {
                        "colorbar": {
                          "outlinewidth": 0,
                          "ticks": ""
                        },
                        "colorscale": [
                          [
                            0,
                            "#0d0887"
                          ],
                          [
                            0.1111111111111111,
                            "#46039f"
                          ],
                          [
                            0.2222222222222222,
                            "#7201a8"
                          ],
                          [
                            0.3333333333333333,
                            "#9c179e"
                          ],
                          [
                            0.4444444444444444,
                            "#bd3786"
                          ],
                          [
                            0.5555555555555556,
                            "#d8576b"
                          ],
                          [
                            0.6666666666666666,
                            "#ed7953"
                          ],
                          [
                            0.7777777777777778,
                            "#fb9f3a"
                          ],
                          [
                            0.8888888888888888,
                            "#fdca26"
                          ],
                          [
                            1,
                            "#f0f921"
                          ]
                        ],
                        "type": "histogram2d"
                      }
                    ],
                    "histogram2dcontour": [
                      {
                        "colorbar": {
                          "outlinewidth": 0,
                          "ticks": ""
                        },
                        "colorscale": [
                          [
                            0,
                            "#0d0887"
                          ],
                          [
                            0.1111111111111111,
                            "#46039f"
                          ],
                          [
                            0.2222222222222222,
                            "#7201a8"
                          ],
                          [
                            0.3333333333333333,
                            "#9c179e"
                          ],
                          [
                            0.4444444444444444,
                            "#bd3786"
                          ],
                          [
                            0.5555555555555556,
                            "#d8576b"
                          ],
                          [
                            0.6666666666666666,
                            "#ed7953"
                          ],
                          [
                            0.7777777777777778,
                            "#fb9f3a"
                          ],
                          [
                            0.8888888888888888,
                            "#fdca26"
                          ],
                          [
                            1,
                            "#f0f921"
                          ]
                        ],
                        "type": "histogram2dcontour"
                      }
                    ],
                    "mesh3d": [
                      {
                        "colorbar": {
                          "outlinewidth": 0,
                          "ticks": ""
                        },
                        "type": "mesh3d"
                      }
                    ],
                    "parcoords": [
                      {
                        "line": {
                          "colorbar": {
                            "outlinewidth": 0,
                            "ticks": ""
                          }
                        },
                        "type": "parcoords"
                      }
                    ],
                    "pie": [
                      {
                        "automargin": true,
                        "type": "pie"
                      }
                    ],
                    "scatter": [
                      {
                        "fillpattern": {
                          "fillmode": "overlay",
                          "size": 10,
                          "solidity": 0.2
                        },
                        "type": "scatter"
                      }
                    ],
                    "scatter3d": [
                      {
                        "line": {
                          "colorbar": {
                            "outlinewidth": 0,
                            "ticks": ""
                          }
                        },
                        "marker": {
                          "colorbar": {
                            "outlinewidth": 0,
                            "ticks": ""
                          }
                        },
                        "type": "scatter3d"
                      }
                    ],
                    "scattercarpet": [
                      {
                        "marker": {
                          "colorbar": {
                            "outlinewidth": 0,
                            "ticks": ""
                          }
                        },
                        "type": "scattercarpet"
                      }
                    ],
                    "scattergeo": [
                      {
                        "marker": {
                          "colorbar": {
                            "outlinewidth": 0,
                            "ticks": ""
                          }
                        },
                        "type": "scattergeo"
                      }
                    ],
                    "scattergl": [
                      {
                        "marker": {
                          "colorbar": {
                            "outlinewidth": 0,
                            "ticks": ""
                          }
                        },
                        "type": "scattergl"
                      }
                    ],
                    "scattermapbox": [
                      {
                        "marker": {
                          "colorbar": {
                            "outlinewidth": 0,
                            "ticks": ""
                          }
                        },
                        "type": "scattermapbox"
                      }
                    ],
                    "scatterpolar": [
                      {
                        "marker": {
                          "colorbar": {
                            "outlinewidth": 0,
                            "ticks": ""
                          }
                        },
                        "type": "scatterpolar"
                      }
                    ],
                    "scatterpolargl": [
                      {
                        "marker": {
                          "colorbar": {
                            "outlinewidth": 0,
                            "ticks": ""
                          }
                        },
                        "type": "scatterpolargl"
                      }
                    ],
                    "scatterternary": [
                      {
                        "marker": {
                          "colorbar": {
                            "outlinewidth": 0,
                            "ticks": ""
                          }
                        },
                        "type": "scatterternary"
                      }
                    ],
                    "surface": [
                      {
                        "colorbar": {
                          "outlinewidth": 0,
                          "ticks": ""
                        },
                        "colorscale": [
                          [
                            0,
                            "#0d0887"
                          ],
                          [
                            0.1111111111111111,
                            "#46039f"
                          ],
                          [
                            0.2222222222222222,
                            "#7201a8"
                          ],
                          [
                            0.3333333333333333,
                            "#9c179e"
                          ],
                          [
                            0.4444444444444444,
                            "#bd3786"
                          ],
                          [
                            0.5555555555555556,
                            "#d8576b"
                          ],
                          [
                            0.6666666666666666,
                            "#ed7953"
                          ],
                          [
                            0.7777777777777778,
                            "#fb9f3a"
                          ],
                          [
                            0.8888888888888888,
                            "#fdca26"
                          ],
                          [
                            1,
                            "#f0f921"
                          ]
                        ],
                        "type": "surface"
                      }
                    ],
                    "table": [
                      {
                        "cells": {
                          "fill": {
                            "color": "#EBF0F8"
                          },
                          "line": {
                            "color": "white"
                          }
                        },
                        "header": {
                          "fill": {
                            "color": "#C8D4E3"
                          },
                          "line": {
                            "color": "white"
                          }
                        },
                        "type": "table"
                      }
                    ]
                  },
                  "layout": {
                    "annotationdefaults": {
                      "arrowcolor": "#2a3f5f",
                      "arrowhead": 0,
                      "arrowwidth": 1
                    },
                    "autotypenumbers": "strict",
                    "coloraxis": {
                      "colorbar": {
                        "outlinewidth": 0,
                        "ticks": ""
                      }
                    },
                    "colorscale": {
                      "diverging": [
                        [
                          0,
                          "#8e0152"
                        ],
                        [
                          0.1,
                          "#c51b7d"
                        ],
                        [
                          0.2,
                          "#de77ae"
                        ],
                        [
                          0.3,
                          "#f1b6da"
                        ],
                        [
                          0.4,
                          "#fde0ef"
                        ],
                        [
                          0.5,
                          "#f7f7f7"
                        ],
                        [
                          0.6,
                          "#e6f5d0"
                        ],
                        [
                          0.7,
                          "#b8e186"
                        ],
                        [
                          0.8,
                          "#7fbc41"
                        ],
                        [
                          0.9,
                          "#4d9221"
                        ],
                        [
                          1,
                          "#276419"
                        ]
                      ],
                      "sequential": [
                        [
                          0,
                          "#0d0887"
                        ],
                        [
                          0.1111111111111111,
                          "#46039f"
                        ],
                        [
                          0.2222222222222222,
                          "#7201a8"
                        ],
                        [
                          0.3333333333333333,
                          "#9c179e"
                        ],
                        [
                          0.4444444444444444,
                          "#bd3786"
                        ],
                        [
                          0.5555555555555556,
                          "#d8576b"
                        ],
                        [
                          0.6666666666666666,
                          "#ed7953"
                        ],
                        [
                          0.7777777777777778,
                          "#fb9f3a"
                        ],
                        [
                          0.8888888888888888,
                          "#fdca26"
                        ],
                        [
                          1,
                          "#f0f921"
                        ]
                      ],
                      "sequentialminus": [
                        [
                          0,
                          "#0d0887"
                        ],
                        [
                          0.1111111111111111,
                          "#46039f"
                        ],
                        [
                          0.2222222222222222,
                          "#7201a8"
                        ],
                        [
                          0.3333333333333333,
                          "#9c179e"
                        ],
                        [
                          0.4444444444444444,
                          "#bd3786"
                        ],
                        [
                          0.5555555555555556,
                          "#d8576b"
                        ],
                        [
                          0.6666666666666666,
                          "#ed7953"
                        ],
                        [
                          0.7777777777777778,
                          "#fb9f3a"
                        ],
                        [
                          0.8888888888888888,
                          "#fdca26"
                        ],
                        [
                          1,
                          "#f0f921"
                        ]
                      ]
                    },
                    "colorway": [
                      "#636efa",
                      "#EF553B",
                      "#00cc96",
                      "#ab63fa",
                      "#FFA15A",
                      "#19d3f3",
                      "#FF6692",
                      "#B6E880",
                      "#FF97FF",
                      "#FECB52"
                    ],
                    "font": {
                      "color": "#2a3f5f"
                    },
                    "geo": {
                      "bgcolor": "white",
                      "lakecolor": "white",
                      "landcolor": "#E5ECF6",
                      "showlakes": true,
                      "showland": true,
                      "subunitcolor": "white"
                    },
                    "hoverlabel": {
                      "align": "left"
                    },
                    "hovermode": "closest",
                    "mapbox": {
                      "style": "light"
                    },
                    "paper_bgcolor": "white",
                    "plot_bgcolor": "#E5ECF6",
                    "polar": {
                      "angularaxis": {
                        "gridcolor": "white",
                        "linecolor": "white",
                        "ticks": ""
                      },
                      "bgcolor": "#E5ECF6",
                      "radialaxis": {
                        "gridcolor": "white",
                        "linecolor": "white",
                        "ticks": ""
                      }
                    },
                    "scene": {
                      "xaxis": {
                        "backgroundcolor": "#E5ECF6",
                        "gridcolor": "white",
                        "gridwidth": 2,
                        "linecolor": "white",
                        "showbackground": true,
                        "ticks": "",
                        "zerolinecolor": "white"
                      },
                      "yaxis": {
                        "backgroundcolor": "#E5ECF6",
                        "gridcolor": "white",
                        "gridwidth": 2,
                        "linecolor": "white",
                        "showbackground": true,
                        "ticks": "",
                        "zerolinecolor": "white"
                      },
                      "zaxis": {
                        "backgroundcolor": "#E5ECF6",
                        "gridcolor": "white",
                        "gridwidth": 2,
                        "linecolor": "white",
                        "showbackground": true,
                        "ticks": "",
                        "zerolinecolor": "white"
                      }
                    },
                    "shapedefaults": {
                      "line": {
                        "color": "#2a3f5f"
                      }
                    },
                    "ternary": {
                      "aaxis": {
                        "gridcolor": "white",
                        "linecolor": "white",
                        "ticks": ""
                      },
                      "baxis": {
                        "gridcolor": "white",
                        "linecolor": "white",
                        "ticks": ""
                      },
                      "bgcolor": "#E5ECF6",
                      "caxis": {
                        "gridcolor": "white",
                        "linecolor": "white",
                        "ticks": ""
                      }
                    },
                    "title": {
                      "x": 0.05
                    },
                    "xaxis": {
                      "automargin": true,
                      "gridcolor": "white",
                      "linecolor": "white",
                      "ticks": "",
                      "title": {
                        "standoff": 15
                      },
                      "zerolinecolor": "white",
                      "zerolinewidth": 2
                    },
                    "yaxis": {
                      "automargin": true,
                      "gridcolor": "white",
                      "linecolor": "white",
                      "ticks": "",
                      "title": {
                        "standoff": 15
                      },
                      "zerolinecolor": "white",
                      "zerolinewidth": 2
                    }
                  }
                },
                "title": {
                  "text": "Воронка по неделям"
                },
                "xaxis": {
                  "title": {
                    "text": "Неделя"
                  }
                },
                "yaxis": {
                  "side": "left",
                  "title": {
                    "text": "Количество посещений"
                  }
                },
                "yaxis2": {
                  "overlaying": "y",
                  "range": [
                    0,
                    100
                  ],
                  "side": "right",
                  "tickmode": "sync",
                  "ticksuffix": "%",
                  "title": {
                    "text": "Конверсии"
                  }
                }
              }
            },
            "text/html": [
              "<div>                            <div id=\"64b58915-779e-4bce-b0df-3dc21fe9e2a1\" class=\"plotly-graph-div\" style=\"height:525px; width:100%;\"></div>            <script type=\"text/javascript\">                require([\"plotly\"], function(Plotly) {                    window.PLOTLYENV=window.PLOTLYENV || {};                                    if (document.getElementById(\"64b58915-779e-4bce-b0df-3dc21fe9e2a1\")) {                    Plotly.newPlot(                        \"64b58915-779e-4bce-b0df-3dc21fe9e2a1\",                        [{\"marker\":{\"color\":\"rgb(158,202,225)\",\"opacity\":0.6},\"name\":\"\\u041f\\u043e\\u0441\\u0435\\u0449\\u0435\\u043d\\u0438\\u044f \\u043d\\u0430 \\u0441\\u0430\\u0439\\u0442\\u0435\",\"x\":[\"2022-08-29\",\"2022-09-05\",\"2022-09-12\",\"2022-09-19\",\"2022-09-26\",\"2022-10-03\",\"2022-10-10\",\"2022-10-17\",\"2022-10-24\",\"2022-10-31\",\"2022-11-07\",\"2022-11-14\",\"2022-11-21\",\"2022-11-28\",\"2022-12-05\",\"2022-12-12\",\"2022-12-19\",\"2022-12-26\",\"2023-01-02\",\"2023-01-09\",\"2023-01-16\",\"2023-01-23\",\"2023-01-30\"],\"y\":[111,184,167,181,195,204,190,171,189,197,173,179,180,177,168,196,192,192,201,205,181,182,81],\"type\":\"bar\"},{\"name\":\"\\u043a\\u043e\\u043d\\u0432\\u0435\\u0440\\u0441\\u0438\\u044f \\u0438\\u0437 \\u043f\\u043e\\u0441\\u0435\\u0449\\u0435\\u043d\\u0438\\u0439 \\u0432 \\u0440\\u0435\\u0433\\u0438\\u0441\\u0442\\u0440\\u0430\\u0446\\u0438\\u044e\",\"text\":[32.0,31.0,43.0,45.0,59.0,58.0,44.0,41.0,48.0,47.0,41.0,39.0,49.0,45.0,47.0,52.0,46.0,46.0,58.0,47.0,43.0,41.0,22.0],\"x\":[\"2022-08-29\",\"2022-09-05\",\"2022-09-12\",\"2022-09-19\",\"2022-09-26\",\"2022-10-03\",\"2022-10-10\",\"2022-10-17\",\"2022-10-24\",\"2022-10-31\",\"2022-11-07\",\"2022-11-14\",\"2022-11-21\",\"2022-11-28\",\"2022-12-05\",\"2022-12-12\",\"2022-12-19\",\"2022-12-26\",\"2023-01-02\",\"2023-01-09\",\"2023-01-16\",\"2023-01-23\",\"2023-01-30\"],\"y\":[28.83,16.85,25.75,24.86,30.26,28.43,23.16,23.98,25.4,23.86,23.7,21.79,27.22,25.42,27.98,26.53,23.96,23.96,28.86,22.93,23.76,22.53,27.16],\"yaxis\":\"y2\",\"type\":\"scatter\"},{\"name\":\"\\u043a\\u043e\\u043d\\u0432\\u0435\\u0440\\u0441\\u0438\\u044f \\u0438\\u0437 \\u043f\\u043e\\u0441\\u0435\\u0449\\u0435\\u043d\\u0438\\u0439 \\u0432 \\u043f\\u043e\\u0434\\u0430\\u0447\\u0443 \\u0437\\u0430\\u044f\\u0432\\u043a\\u0438\",\"text\":[7.0,6.0,16.0,12.0,17.0,18.0,13.0,12.0,15.0,16.0,12.0,7.0,14.0,12.0,15.0,14.0,16.0,10.0,16.0,14.0,13.0,13.0,5.0],\"x\":[\"2022-08-29\",\"2022-09-05\",\"2022-09-12\",\"2022-09-19\",\"2022-09-26\",\"2022-10-03\",\"2022-10-10\",\"2022-10-17\",\"2022-10-24\",\"2022-10-31\",\"2022-11-07\",\"2022-11-14\",\"2022-11-21\",\"2022-11-28\",\"2022-12-05\",\"2022-12-12\",\"2022-12-19\",\"2022-12-26\",\"2023-01-02\",\"2023-01-09\",\"2023-01-16\",\"2023-01-23\",\"2023-01-30\"],\"y\":[6.31,3.26,9.58,6.63,8.72,8.82,6.84,7.02,7.94,8.12,6.94,3.91,7.78,6.78,8.93,7.14,8.33,5.21,7.96,6.83,7.18,7.14,6.17],\"yaxis\":\"y2\",\"type\":\"scatter\"},{\"name\":\"\\u043a\\u043e\\u043d\\u0432\\u0435\\u0440\\u0441\\u0438\\u044f \\u0438\\u0437 \\u043f\\u043e\\u0441\\u0435\\u0449\\u0435\\u043d\\u0438\\u0439 \\u0432 \\u043f\\u043e\\u0441\\u0435\\u0449\\u0435\\u043d\\u0438\\u0435 \\u0438\\u0433\\u0440\\u044b\",\"text\":[5.0,5.0,8.0,11.0,17.0,15.0,13.0,10.0,11.0,14.0,11.0,5.0,14.0,10.0,12.0,6.0,8.0,4.0,4.0,6.0,4.0,5.0,0.0],\"x\":[\"2022-08-29\",\"2022-09-05\",\"2022-09-12\",\"2022-09-19\",\"2022-09-26\",\"2022-10-03\",\"2022-10-10\",\"2022-10-17\",\"2022-10-24\",\"2022-10-31\",\"2022-11-07\",\"2022-11-14\",\"2022-11-21\",\"2022-11-28\",\"2022-12-05\",\"2022-12-12\",\"2022-12-19\",\"2022-12-26\",\"2023-01-02\",\"2023-01-09\",\"2023-01-16\",\"2023-01-23\",\"2023-01-30\"],\"y\":[4.5,2.72,4.79,6.08,8.72,7.35,6.84,5.85,5.82,7.11,6.36,2.79,7.78,5.65,7.14,3.06,4.17,2.08,1.99,2.93,2.21,2.75,0.0],\"yaxis\":\"y2\",\"type\":\"scatter\"}],                        {\"template\":{\"data\":{\"histogram2dcontour\":[{\"type\":\"histogram2dcontour\",\"colorbar\":{\"outlinewidth\":0,\"ticks\":\"\"},\"colorscale\":[[0.0,\"#0d0887\"],[0.1111111111111111,\"#46039f\"],[0.2222222222222222,\"#7201a8\"],[0.3333333333333333,\"#9c179e\"],[0.4444444444444444,\"#bd3786\"],[0.5555555555555556,\"#d8576b\"],[0.6666666666666666,\"#ed7953\"],[0.7777777777777778,\"#fb9f3a\"],[0.8888888888888888,\"#fdca26\"],[1.0,\"#f0f921\"]]}],\"choropleth\":[{\"type\":\"choropleth\",\"colorbar\":{\"outlinewidth\":0,\"ticks\":\"\"}}],\"histogram2d\":[{\"type\":\"histogram2d\",\"colorbar\":{\"outlinewidth\":0,\"ticks\":\"\"},\"colorscale\":[[0.0,\"#0d0887\"],[0.1111111111111111,\"#46039f\"],[0.2222222222222222,\"#7201a8\"],[0.3333333333333333,\"#9c179e\"],[0.4444444444444444,\"#bd3786\"],[0.5555555555555556,\"#d8576b\"],[0.6666666666666666,\"#ed7953\"],[0.7777777777777778,\"#fb9f3a\"],[0.8888888888888888,\"#fdca26\"],[1.0,\"#f0f921\"]]}],\"heatmap\":[{\"type\":\"heatmap\",\"colorbar\":{\"outlinewidth\":0,\"ticks\":\"\"},\"colorscale\":[[0.0,\"#0d0887\"],[0.1111111111111111,\"#46039f\"],[0.2222222222222222,\"#7201a8\"],[0.3333333333333333,\"#9c179e\"],[0.4444444444444444,\"#bd3786\"],[0.5555555555555556,\"#d8576b\"],[0.6666666666666666,\"#ed7953\"],[0.7777777777777778,\"#fb9f3a\"],[0.8888888888888888,\"#fdca26\"],[1.0,\"#f0f921\"]]}],\"heatmapgl\":[{\"type\":\"heatmapgl\",\"colorbar\":{\"outlinewidth\":0,\"ticks\":\"\"},\"colorscale\":[[0.0,\"#0d0887\"],[0.1111111111111111,\"#46039f\"],[0.2222222222222222,\"#7201a8\"],[0.3333333333333333,\"#9c179e\"],[0.4444444444444444,\"#bd3786\"],[0.5555555555555556,\"#d8576b\"],[0.6666666666666666,\"#ed7953\"],[0.7777777777777778,\"#fb9f3a\"],[0.8888888888888888,\"#fdca26\"],[1.0,\"#f0f921\"]]}],\"contourcarpet\":[{\"type\":\"contourcarpet\",\"colorbar\":{\"outlinewidth\":0,\"ticks\":\"\"}}],\"contour\":[{\"type\":\"contour\",\"colorbar\":{\"outlinewidth\":0,\"ticks\":\"\"},\"colorscale\":[[0.0,\"#0d0887\"],[0.1111111111111111,\"#46039f\"],[0.2222222222222222,\"#7201a8\"],[0.3333333333333333,\"#9c179e\"],[0.4444444444444444,\"#bd3786\"],[0.5555555555555556,\"#d8576b\"],[0.6666666666666666,\"#ed7953\"],[0.7777777777777778,\"#fb9f3a\"],[0.8888888888888888,\"#fdca26\"],[1.0,\"#f0f921\"]]}],\"surface\":[{\"type\":\"surface\",\"colorbar\":{\"outlinewidth\":0,\"ticks\":\"\"},\"colorscale\":[[0.0,\"#0d0887\"],[0.1111111111111111,\"#46039f\"],[0.2222222222222222,\"#7201a8\"],[0.3333333333333333,\"#9c179e\"],[0.4444444444444444,\"#bd3786\"],[0.5555555555555556,\"#d8576b\"],[0.6666666666666666,\"#ed7953\"],[0.7777777777777778,\"#fb9f3a\"],[0.8888888888888888,\"#fdca26\"],[1.0,\"#f0f921\"]]}],\"mesh3d\":[{\"type\":\"mesh3d\",\"colorbar\":{\"outlinewidth\":0,\"ticks\":\"\"}}],\"scatter\":[{\"fillpattern\":{\"fillmode\":\"overlay\",\"size\":10,\"solidity\":0.2},\"type\":\"scatter\"}],\"parcoords\":[{\"type\":\"parcoords\",\"line\":{\"colorbar\":{\"outlinewidth\":0,\"ticks\":\"\"}}}],\"scatterpolargl\":[{\"type\":\"scatterpolargl\",\"marker\":{\"colorbar\":{\"outlinewidth\":0,\"ticks\":\"\"}}}],\"bar\":[{\"error_x\":{\"color\":\"#2a3f5f\"},\"error_y\":{\"color\":\"#2a3f5f\"},\"marker\":{\"line\":{\"color\":\"#E5ECF6\",\"width\":0.5},\"pattern\":{\"fillmode\":\"overlay\",\"size\":10,\"solidity\":0.2}},\"type\":\"bar\"}],\"scattergeo\":[{\"type\":\"scattergeo\",\"marker\":{\"colorbar\":{\"outlinewidth\":0,\"ticks\":\"\"}}}],\"scatterpolar\":[{\"type\":\"scatterpolar\",\"marker\":{\"colorbar\":{\"outlinewidth\":0,\"ticks\":\"\"}}}],\"histogram\":[{\"marker\":{\"pattern\":{\"fillmode\":\"overlay\",\"size\":10,\"solidity\":0.2}},\"type\":\"histogram\"}],\"scattergl\":[{\"type\":\"scattergl\",\"marker\":{\"colorbar\":{\"outlinewidth\":0,\"ticks\":\"\"}}}],\"scatter3d\":[{\"type\":\"scatter3d\",\"line\":{\"colorbar\":{\"outlinewidth\":0,\"ticks\":\"\"}},\"marker\":{\"colorbar\":{\"outlinewidth\":0,\"ticks\":\"\"}}}],\"scattermapbox\":[{\"type\":\"scattermapbox\",\"marker\":{\"colorbar\":{\"outlinewidth\":0,\"ticks\":\"\"}}}],\"scatterternary\":[{\"type\":\"scatterternary\",\"marker\":{\"colorbar\":{\"outlinewidth\":0,\"ticks\":\"\"}}}],\"scattercarpet\":[{\"type\":\"scattercarpet\",\"marker\":{\"colorbar\":{\"outlinewidth\":0,\"ticks\":\"\"}}}],\"carpet\":[{\"aaxis\":{\"endlinecolor\":\"#2a3f5f\",\"gridcolor\":\"white\",\"linecolor\":\"white\",\"minorgridcolor\":\"white\",\"startlinecolor\":\"#2a3f5f\"},\"baxis\":{\"endlinecolor\":\"#2a3f5f\",\"gridcolor\":\"white\",\"linecolor\":\"white\",\"minorgridcolor\":\"white\",\"startlinecolor\":\"#2a3f5f\"},\"type\":\"carpet\"}],\"table\":[{\"cells\":{\"fill\":{\"color\":\"#EBF0F8\"},\"line\":{\"color\":\"white\"}},\"header\":{\"fill\":{\"color\":\"#C8D4E3\"},\"line\":{\"color\":\"white\"}},\"type\":\"table\"}],\"barpolar\":[{\"marker\":{\"line\":{\"color\":\"#E5ECF6\",\"width\":0.5},\"pattern\":{\"fillmode\":\"overlay\",\"size\":10,\"solidity\":0.2}},\"type\":\"barpolar\"}],\"pie\":[{\"automargin\":true,\"type\":\"pie\"}]},\"layout\":{\"autotypenumbers\":\"strict\",\"colorway\":[\"#636efa\",\"#EF553B\",\"#00cc96\",\"#ab63fa\",\"#FFA15A\",\"#19d3f3\",\"#FF6692\",\"#B6E880\",\"#FF97FF\",\"#FECB52\"],\"font\":{\"color\":\"#2a3f5f\"},\"hovermode\":\"closest\",\"hoverlabel\":{\"align\":\"left\"},\"paper_bgcolor\":\"white\",\"plot_bgcolor\":\"#E5ECF6\",\"polar\":{\"bgcolor\":\"#E5ECF6\",\"angularaxis\":{\"gridcolor\":\"white\",\"linecolor\":\"white\",\"ticks\":\"\"},\"radialaxis\":{\"gridcolor\":\"white\",\"linecolor\":\"white\",\"ticks\":\"\"}},\"ternary\":{\"bgcolor\":\"#E5ECF6\",\"aaxis\":{\"gridcolor\":\"white\",\"linecolor\":\"white\",\"ticks\":\"\"},\"baxis\":{\"gridcolor\":\"white\",\"linecolor\":\"white\",\"ticks\":\"\"},\"caxis\":{\"gridcolor\":\"white\",\"linecolor\":\"white\",\"ticks\":\"\"}},\"coloraxis\":{\"colorbar\":{\"outlinewidth\":0,\"ticks\":\"\"}},\"colorscale\":{\"sequential\":[[0.0,\"#0d0887\"],[0.1111111111111111,\"#46039f\"],[0.2222222222222222,\"#7201a8\"],[0.3333333333333333,\"#9c179e\"],[0.4444444444444444,\"#bd3786\"],[0.5555555555555556,\"#d8576b\"],[0.6666666666666666,\"#ed7953\"],[0.7777777777777778,\"#fb9f3a\"],[0.8888888888888888,\"#fdca26\"],[1.0,\"#f0f921\"]],\"sequentialminus\":[[0.0,\"#0d0887\"],[0.1111111111111111,\"#46039f\"],[0.2222222222222222,\"#7201a8\"],[0.3333333333333333,\"#9c179e\"],[0.4444444444444444,\"#bd3786\"],[0.5555555555555556,\"#d8576b\"],[0.6666666666666666,\"#ed7953\"],[0.7777777777777778,\"#fb9f3a\"],[0.8888888888888888,\"#fdca26\"],[1.0,\"#f0f921\"]],\"diverging\":[[0,\"#8e0152\"],[0.1,\"#c51b7d\"],[0.2,\"#de77ae\"],[0.3,\"#f1b6da\"],[0.4,\"#fde0ef\"],[0.5,\"#f7f7f7\"],[0.6,\"#e6f5d0\"],[0.7,\"#b8e186\"],[0.8,\"#7fbc41\"],[0.9,\"#4d9221\"],[1,\"#276419\"]]},\"xaxis\":{\"gridcolor\":\"white\",\"linecolor\":\"white\",\"ticks\":\"\",\"title\":{\"standoff\":15},\"zerolinecolor\":\"white\",\"automargin\":true,\"zerolinewidth\":2},\"yaxis\":{\"gridcolor\":\"white\",\"linecolor\":\"white\",\"ticks\":\"\",\"title\":{\"standoff\":15},\"zerolinecolor\":\"white\",\"automargin\":true,\"zerolinewidth\":2},\"scene\":{\"xaxis\":{\"backgroundcolor\":\"#E5ECF6\",\"gridcolor\":\"white\",\"linecolor\":\"white\",\"showbackground\":true,\"ticks\":\"\",\"zerolinecolor\":\"white\",\"gridwidth\":2},\"yaxis\":{\"backgroundcolor\":\"#E5ECF6\",\"gridcolor\":\"white\",\"linecolor\":\"white\",\"showbackground\":true,\"ticks\":\"\",\"zerolinecolor\":\"white\",\"gridwidth\":2},\"zaxis\":{\"backgroundcolor\":\"#E5ECF6\",\"gridcolor\":\"white\",\"linecolor\":\"white\",\"showbackground\":true,\"ticks\":\"\",\"zerolinecolor\":\"white\",\"gridwidth\":2}},\"shapedefaults\":{\"line\":{\"color\":\"#2a3f5f\"}},\"annotationdefaults\":{\"arrowcolor\":\"#2a3f5f\",\"arrowhead\":0,\"arrowwidth\":1},\"geo\":{\"bgcolor\":\"white\",\"landcolor\":\"#E5ECF6\",\"subunitcolor\":\"white\",\"showland\":true,\"showlakes\":true,\"lakecolor\":\"white\"},\"title\":{\"x\":0.05},\"mapbox\":{\"style\":\"light\"}}},\"legend\":{\"orientation\":\"h\"},\"yaxis\":{\"title\":{\"text\":\"\\u041a\\u043e\\u043b\\u0438\\u0447\\u0435\\u0441\\u0442\\u0432\\u043e \\u043f\\u043e\\u0441\\u0435\\u0449\\u0435\\u043d\\u0438\\u0439\"},\"side\":\"left\"},\"yaxis2\":{\"title\":{\"text\":\"\\u041a\\u043e\\u043d\\u0432\\u0435\\u0440\\u0441\\u0438\\u0438\"},\"side\":\"right\",\"overlaying\":\"y\",\"range\":[0,100],\"tickmode\":\"sync\",\"ticksuffix\":\"%\"},\"title\":{\"text\":\"\\u0412\\u043e\\u0440\\u043e\\u043d\\u043a\\u0430 \\u043f\\u043e \\u043d\\u0435\\u0434\\u0435\\u043b\\u044f\\u043c\"},\"xaxis\":{\"title\":{\"text\":\"\\u041d\\u0435\\u0434\\u0435\\u043b\\u044f\"}}},                        {\"responsive\": true}                    ).then(function(){\n",
              "                            \n",
              "var gd = document.getElementById('64b58915-779e-4bce-b0df-3dc21fe9e2a1');\n",
              "var x = new MutationObserver(function (mutations, observer) {{\n",
              "        var display = window.getComputedStyle(gd).display;\n",
              "        if (!display || display === 'none') {{\n",
              "            console.log([gd, 'removed!']);\n",
              "            Plotly.purge(gd);\n",
              "            observer.disconnect();\n",
              "        }}\n",
              "}});\n",
              "\n",
              "// Listen for the removal of the full notebook cells\n",
              "var notebookContainer = gd.closest('#notebook-container');\n",
              "if (notebookContainer) {{\n",
              "    x.observe(notebookContainer, {childList: true});\n",
              "}}\n",
              "\n",
              "// Listen for the clearing of the current output cell\n",
              "var outputEl = gd.closest('.output');\n",
              "if (outputEl) {{\n",
              "    x.observe(outputEl, {childList: true});\n",
              "}}\n",
              "\n",
              "                        })                };                });            </script>        </div>"
            ]
          },
          "metadata": {},
          "output_type": "display_data"
        }
      ],
      "source": [
        "fig = go.Figure(\n",
        "    data=go.Bar(\n",
        "        name = 'Посещения на сайте',\n",
        "        x = df_week.week,\n",
        "        y = df_week.visits_count,\n",
        "        marker=dict(color = 'rgb(158,202,225)', opacity=0.6),\n",
        "    )\n",
        ")\n",
        "\n",
        "fig.add_trace(go.Scatter(\n",
        "    name = 'конверсия из посещений в регистрацию',\n",
        "    x = df_week.week,\n",
        "    y = df_week.registrations_rate,\n",
        "    text = df_week.registrations_count,\n",
        "    yaxis=\"y2\"\n",
        "))\n",
        "fig.add_trace(go.Scatter(\n",
        "    name = 'конверсия из посещений в подачу заявки',\n",
        "    x = df_week.week,\n",
        "    y = df_week.applications_rate,\n",
        "    text = df_week.applications_count,\n",
        "    yaxis=\"y2\"\n",
        "))\n",
        "fig.add_trace(go.Scatter(\n",
        "    name = 'конверсия из посещений в посещение игры',\n",
        "    x = df_week.week,\n",
        "    y = df_week.participants_rate,\n",
        "    text = df_week.participants_count,\n",
        "    yaxis=\"y2\"\n",
        "))\n",
        "\n",
        "fig.update_layout(\n",
        "    legend=dict(orientation=\"h\"),\n",
        "    yaxis=dict(\n",
        "        title=dict(text=\"Количество посещений\"),\n",
        "        side=\"left\",\n",
        "    ),\n",
        "    yaxis2=dict(\n",
        "        title=dict(text=\"Конверсии\"),\n",
        "        side=\"right\",\n",
        "        overlaying=\"y\",\n",
        "        range = [0, 100],\n",
        "        tickmode=\"sync\",\n",
        "        ticksuffix='%'\n",
        "    ),\n",
        "    title_text='Воронка по неделям',\n",
        "    xaxis_title='Неделя',\n",
        ")\n",
        "\n",
        "fig.show()\n"
      ]
    },
    {
      "cell_type": "markdown",
      "id": "faf6de35",
      "metadata": {
        "id": "faf6de35"
      },
      "source": [
        "Здесь мы видим, что наиболее успешная неделя была с 26 сентября по 3 октября  2022 года. <br>\n",
        "Также убеждаемся, что последний пик посещений игр мы достигли в ноябре 2022 года, после чего конверсия упала больше чем на 5%, в пике имея лишь почти 8%."
      ]
    },
    {
      "cell_type": "markdown",
      "id": "ba3122e4",
      "metadata": {
        "id": "ba3122e4"
      },
      "source": [
        "<strong>Какие выводы можно сделать исходя из построенной воронки, какие точки роста продукта вы видите?</strong>"
      ]
    },
    {
      "cell_type": "markdown",
      "id": "1778a103",
      "metadata": {
        "id": "1778a103"
      },
      "source": [
        "Осенью высокая доля пользователей подававших заявки по итогу приходила на игры. Однако, начиная с зимы, посещение игр начало падать. Фактор сезонности или плохой организации квестов? Причину определить сложно из-за малого количества данных (5 месяцев).<br>\n",
        "\n",
        "Количество посещающих сайт держится на одном уровне, а также ~75% посещающих сайт пользователей по итогу не регистрируются на сайте. Следовательно, можно сделать фокус на улучшении сайта и рекламе продукта."
      ]
    }
  ],
  "metadata": {
    "kernelspec": {
      "display_name": "Python 3 (ipykernel)",
      "language": "python",
      "name": "python3"
    },
    "language_info": {
      "codemirror_mode": {
        "name": "ipython",
        "version": 3
      },
      "file_extension": ".py",
      "mimetype": "text/x-python",
      "name": "python",
      "nbconvert_exporter": "python",
      "pygments_lexer": "ipython3",
      "version": "3.10.9"
    },
    "colab": {
      "provenance": [],
      "include_colab_link": true
    }
  },
  "nbformat": 4,
  "nbformat_minor": 5
}